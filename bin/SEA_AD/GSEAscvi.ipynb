{
 "cells": [
  {
   "cell_type": "code",
   "execution_count": 1,
   "id": "35388c60-6eef-4c80-ae56-c9854de4da05",
   "metadata": {},
   "outputs": [],
   "source": [
    "import warnings\n",
    "\n",
    "warnings.filterwarnings(\"ignore\")\n",
    "\n",
    "import os\n",
    "import matplotlib.pyplot as plt\n",
    "import seaborn as sns\n",
    "import scanpy as sc\n",
    "import pandas as pd\n",
    "import numpy as np\n",
    "import random\n",
    "import scvi\n",
    "import gseapy"
   ]
  },
  {
   "cell_type": "code",
   "execution_count": 2,
   "id": "86065860-8b22-46c7-ad1e-8d379ba4f763",
   "metadata": {
    "scrolled": true
   },
   "outputs": [
    {
     "data": {
      "text/plain": [
       "['ARCHS4_Cell-lines',\n",
       " 'ARCHS4_IDG_Coexp',\n",
       " 'ARCHS4_Kinases_Coexp',\n",
       " 'ARCHS4_TFs_Coexp',\n",
       " 'ARCHS4_Tissues',\n",
       " 'Achilles_fitness_decrease',\n",
       " 'Achilles_fitness_increase',\n",
       " 'Aging_Perturbations_from_GEO_down',\n",
       " 'Aging_Perturbations_from_GEO_up',\n",
       " 'Allen_Brain_Atlas_10x_scRNA_2021',\n",
       " 'Allen_Brain_Atlas_down',\n",
       " 'Allen_Brain_Atlas_up',\n",
       " 'Azimuth_2023',\n",
       " 'Azimuth_Cell_Types_2021',\n",
       " 'BioCarta_2013',\n",
       " 'BioCarta_2015',\n",
       " 'BioCarta_2016',\n",
       " 'BioPlanet_2019',\n",
       " 'BioPlex_2017',\n",
       " 'CCLE_Proteomics_2020',\n",
       " 'CORUM',\n",
       " 'COVID-19_Related_Gene_Sets',\n",
       " 'COVID-19_Related_Gene_Sets_2021',\n",
       " 'Cancer_Cell_Line_Encyclopedia',\n",
       " 'CellMarker_2024',\n",
       " 'CellMarker_Augmented_2021',\n",
       " 'ChEA_2013',\n",
       " 'ChEA_2015',\n",
       " 'ChEA_2016',\n",
       " 'ChEA_2022',\n",
       " 'Chromosome_Location',\n",
       " 'Chromosome_Location_hg19',\n",
       " 'ClinVar_2019',\n",
       " 'DSigDB',\n",
       " 'Data_Acquisition_Method_Most_Popular_Genes',\n",
       " 'DepMap_WG_CRISPR_Screens_Broad_CellLines_2019',\n",
       " 'DepMap_WG_CRISPR_Screens_Sanger_CellLines_2019',\n",
       " 'Descartes_Cell_Types_and_Tissue_2021',\n",
       " 'Diabetes_Perturbations_GEO_2022',\n",
       " 'DisGeNET',\n",
       " 'Disease_Perturbations_from_GEO_down',\n",
       " 'Disease_Perturbations_from_GEO_up',\n",
       " 'Disease_Signatures_from_GEO_down_2014',\n",
       " 'Disease_Signatures_from_GEO_up_2014',\n",
       " 'DrugMatrix',\n",
       " 'Drug_Perturbations_from_GEO_2014',\n",
       " 'Drug_Perturbations_from_GEO_down',\n",
       " 'Drug_Perturbations_from_GEO_up',\n",
       " 'ENCODE_Histone_Modifications_2013',\n",
       " 'ENCODE_Histone_Modifications_2015',\n",
       " 'ENCODE_TF_ChIP-seq_2014',\n",
       " 'ENCODE_TF_ChIP-seq_2015',\n",
       " 'ENCODE_and_ChEA_Consensus_TFs_from_ChIP-X',\n",
       " 'ESCAPE',\n",
       " 'Elsevier_Pathway_Collection',\n",
       " 'Enrichr_Libraries_Most_Popular_Genes',\n",
       " 'Enrichr_Submissions_TF-Gene_Coocurrence',\n",
       " 'Enrichr_Users_Contributed_Lists_2020',\n",
       " 'Epigenomics_Roadmap_HM_ChIP-seq',\n",
       " 'FANTOM6_lncRNA_KD_DEGs',\n",
       " 'GO_Biological_Process_2013',\n",
       " 'GO_Biological_Process_2015',\n",
       " 'GO_Biological_Process_2017',\n",
       " 'GO_Biological_Process_2017b',\n",
       " 'GO_Biological_Process_2018',\n",
       " 'GO_Biological_Process_2021',\n",
       " 'GO_Biological_Process_2023',\n",
       " 'GO_Cellular_Component_2013',\n",
       " 'GO_Cellular_Component_2015',\n",
       " 'GO_Cellular_Component_2017',\n",
       " 'GO_Cellular_Component_2017b',\n",
       " 'GO_Cellular_Component_2018',\n",
       " 'GO_Cellular_Component_2021',\n",
       " 'GO_Cellular_Component_2023',\n",
       " 'GO_Molecular_Function_2013',\n",
       " 'GO_Molecular_Function_2015',\n",
       " 'GO_Molecular_Function_2017',\n",
       " 'GO_Molecular_Function_2017b',\n",
       " 'GO_Molecular_Function_2018',\n",
       " 'GO_Molecular_Function_2021',\n",
       " 'GO_Molecular_Function_2023',\n",
       " 'GTEx_Aging_Signatures_2021',\n",
       " 'GTEx_Tissue_Expression_Down',\n",
       " 'GTEx_Tissue_Expression_Up',\n",
       " 'GTEx_Tissues_V8_2023',\n",
       " 'GWAS_Catalog_2019',\n",
       " 'GWAS_Catalog_2023',\n",
       " 'GeDiPNet_2023',\n",
       " 'GeneSigDB',\n",
       " 'Gene_Perturbations_from_GEO_down',\n",
       " 'Gene_Perturbations_from_GEO_up',\n",
       " 'Genes_Associated_with_NIH_Grants',\n",
       " 'Genome_Browser_PWMs',\n",
       " 'GlyGen_Glycosylated_Proteins_2022',\n",
       " 'HDSigDB_Human_2021',\n",
       " 'HDSigDB_Mouse_2021',\n",
       " 'HMDB_Metabolites',\n",
       " 'HMS_LINCS_KinomeScan',\n",
       " 'HomoloGene',\n",
       " 'HuBMAP_ASCT_plus_B_augmented_w_RNAseq_Coexpression',\n",
       " 'HuBMAP_ASCTplusB_augmented_2022',\n",
       " 'HumanCyc_2015',\n",
       " 'HumanCyc_2016',\n",
       " 'Human_Gene_Atlas',\n",
       " 'Human_Phenotype_Ontology',\n",
       " 'IDG_Drug_Targets_2022',\n",
       " 'InterPro_Domains_2019',\n",
       " 'Jensen_COMPARTMENTS',\n",
       " 'Jensen_DISEASES',\n",
       " 'Jensen_TISSUES',\n",
       " 'KEA_2013',\n",
       " 'KEA_2015',\n",
       " 'KEGG_2013',\n",
       " 'KEGG_2015',\n",
       " 'KEGG_2016',\n",
       " 'KEGG_2019_Human',\n",
       " 'KEGG_2019_Mouse',\n",
       " 'KEGG_2021_Human',\n",
       " 'KOMP2_Mouse_Phenotypes_2022',\n",
       " 'Kinase_Perturbations_from_GEO_down',\n",
       " 'Kinase_Perturbations_from_GEO_up',\n",
       " 'L1000_Kinase_and_GPCR_Perturbations_down',\n",
       " 'L1000_Kinase_and_GPCR_Perturbations_up',\n",
       " 'LINCS_L1000_CRISPR_KO_Consensus_Sigs',\n",
       " 'LINCS_L1000_Chem_Pert_Consensus_Sigs',\n",
       " 'LINCS_L1000_Chem_Pert_down',\n",
       " 'LINCS_L1000_Chem_Pert_up',\n",
       " 'LINCS_L1000_Ligand_Perturbations_down',\n",
       " 'LINCS_L1000_Ligand_Perturbations_up',\n",
       " 'Ligand_Perturbations_from_GEO_down',\n",
       " 'Ligand_Perturbations_from_GEO_up',\n",
       " 'MAGMA_Drugs_and_Diseases',\n",
       " 'MAGNET_2023',\n",
       " 'MCF7_Perturbations_from_GEO_down',\n",
       " 'MCF7_Perturbations_from_GEO_up',\n",
       " 'MGI_Mammalian_Phenotype_2013',\n",
       " 'MGI_Mammalian_Phenotype_2017',\n",
       " 'MGI_Mammalian_Phenotype_Level_3',\n",
       " 'MGI_Mammalian_Phenotype_Level_4',\n",
       " 'MGI_Mammalian_Phenotype_Level_4_2019',\n",
       " 'MGI_Mammalian_Phenotype_Level_4_2021',\n",
       " 'MSigDB_Computational',\n",
       " 'MSigDB_Hallmark_2020',\n",
       " 'MSigDB_Oncogenic_Signatures',\n",
       " 'Metabolomics_Workbench_Metabolites_2022',\n",
       " 'Microbe_Perturbations_from_GEO_down',\n",
       " 'Microbe_Perturbations_from_GEO_up',\n",
       " 'MoTrPAC_2023',\n",
       " 'Mouse_Gene_Atlas',\n",
       " 'NCI-60_Cancer_Cell_Lines',\n",
       " 'NCI-Nature_2015',\n",
       " 'NCI-Nature_2016',\n",
       " 'NIH_Funded_PIs_2017_AutoRIF_ARCHS4_Predictions',\n",
       " 'NIH_Funded_PIs_2017_GeneRIF_ARCHS4_Predictions',\n",
       " 'NIH_Funded_PIs_2017_Human_AutoRIF',\n",
       " 'NIH_Funded_PIs_2017_Human_GeneRIF',\n",
       " 'NURSA_Human_Endogenous_Complexome',\n",
       " 'OMIM_Disease',\n",
       " 'OMIM_Expanded',\n",
       " 'Old_CMAP_down',\n",
       " 'Old_CMAP_up',\n",
       " 'Orphanet_Augmented_2021',\n",
       " 'PFOCR_Pathways',\n",
       " 'PFOCR_Pathways_2023',\n",
       " 'PPI_Hub_Proteins',\n",
       " 'PanglaoDB_Augmented_2021',\n",
       " 'Panther_2015',\n",
       " 'Panther_2016',\n",
       " 'Pfam_Domains_2019',\n",
       " 'Pfam_InterPro_Domains',\n",
       " 'PheWeb_2019',\n",
       " 'PhenGenI_Association_2021',\n",
       " 'Phosphatase_Substrates_from_DEPOD',\n",
       " 'ProteomicsDB_2020',\n",
       " 'Proteomics_Drug_Atlas_2023',\n",
       " 'RNA-Seq_Disease_Gene_and_Drug_Signatures_from_GEO',\n",
       " 'RNAseq_Automatic_GEO_Signatures_Human_Down',\n",
       " 'RNAseq_Automatic_GEO_Signatures_Human_Up',\n",
       " 'RNAseq_Automatic_GEO_Signatures_Mouse_Down',\n",
       " 'RNAseq_Automatic_GEO_Signatures_Mouse_Up',\n",
       " 'Rare_Diseases_AutoRIF_ARCHS4_Predictions',\n",
       " 'Rare_Diseases_AutoRIF_Gene_Lists',\n",
       " 'Rare_Diseases_GeneRIF_ARCHS4_Predictions',\n",
       " 'Rare_Diseases_GeneRIF_Gene_Lists',\n",
       " 'Reactome_2013',\n",
       " 'Reactome_2015',\n",
       " 'Reactome_2016',\n",
       " 'Reactome_2022',\n",
       " 'Rummagene_kinases',\n",
       " 'Rummagene_signatures',\n",
       " 'Rummagene_transcription_factors',\n",
       " 'SILAC_Phosphoproteomics',\n",
       " 'SubCell_BarCode',\n",
       " 'SynGO_2022',\n",
       " 'SynGO_2024',\n",
       " 'SysMyo_Muscle_Gene_Sets',\n",
       " 'TF-LOF_Expression_from_GEO',\n",
       " 'TF_Perturbations_Followed_by_Expression',\n",
       " 'TG_GATES_2020',\n",
       " 'TRANSFAC_and_JASPAR_PWMs',\n",
       " 'TRRUST_Transcription_Factors_2019',\n",
       " 'Table_Mining_of_CRISPR_Studies',\n",
       " 'Tabula_Muris',\n",
       " 'Tabula_Sapiens',\n",
       " 'TargetScan_microRNA',\n",
       " 'TargetScan_microRNA_2017',\n",
       " 'The_Kinase_Library_2023',\n",
       " 'Tissue_Protein_Expression_from_Human_Proteome_Map',\n",
       " 'Tissue_Protein_Expression_from_ProteomicsDB',\n",
       " 'Transcription_Factor_PPIs',\n",
       " 'UK_Biobank_GWAS_v1',\n",
       " 'Virus-Host_PPI_P-HIPSTer_2020',\n",
       " 'VirusMINT',\n",
       " 'Virus_Perturbations_from_GEO_down',\n",
       " 'Virus_Perturbations_from_GEO_up',\n",
       " 'WikiPathway_2021_Human',\n",
       " 'WikiPathway_2023_Human',\n",
       " 'WikiPathways_2013',\n",
       " 'WikiPathways_2015',\n",
       " 'WikiPathways_2016',\n",
       " 'WikiPathways_2019_Human',\n",
       " 'WikiPathways_2019_Mouse',\n",
       " 'dbGaP',\n",
       " 'huMAP',\n",
       " 'lncHUB_lncRNA_Co-Expression',\n",
       " 'miRTarBase_2017']"
      ]
     },
     "execution_count": 2,
     "metadata": {},
     "output_type": "execute_result"
    }
   ],
   "source": [
    "gseapy.get_library_name()"
   ]
  },
  {
   "cell_type": "code",
   "execution_count": 2,
   "id": "9957018e-9ee5-4233-a709-e4f76ae4e0a5",
   "metadata": {},
   "outputs": [],
   "source": [
    "gene_sets_to_test = ['GO_Biological_Process_2023','GO_Cellular_Component_2023','GO_Molecular_Function_2023',\n",
    "                    'WikiPathway_2023_Human'\n",
    "                    'MSigDB_Hallmark_2020',\n",
    "                    'KEGG_2021_Human']"
   ]
  },
  {
   "cell_type": "markdown",
   "id": "f2b97c2f-0b57-4b04-ae22-13b65d229e75",
   "metadata": {},
   "source": [
    "## GSEA with up and down regulated DEGs for all cell types"
   ]
  },
  {
   "cell_type": "code",
   "execution_count": 7,
   "id": "ca01478b-f8c8-4ae0-bacd-e7d0ecf5a776",
   "metadata": {},
   "outputs": [
    {
     "name": "stderr",
     "output_type": "stream",
     "text": [
      "2024-06-23 00:50:22,016 [WARNING] Duplicated values found in preranked stats: 38.29% of genes\n",
      "The order of those genes will be arbitrary, which may produce unexpected results.\n"
     ]
    },
    {
     "name": "stdout",
     "output_type": "stream",
     "text": [
      "Chandelier\n"
     ]
    },
    {
     "name": "stderr",
     "output_type": "stream",
     "text": [
      "2024-06-23 00:50:32,642 [ERROR] No supported gene_sets: WikiPathway_2023_HumanMSigDB_Hallmark_2020\n",
      "2024-06-23 00:50:44,767 [WARNING] Duplicated values found in preranked stats: 28.96% of genes\n",
      "The order of those genes will be arbitrary, which may produce unexpected results.\n"
     ]
    },
    {
     "name": "stdout",
     "output_type": "stream",
     "text": [
      "L5IT\n"
     ]
    },
    {
     "name": "stderr",
     "output_type": "stream",
     "text": [
      "2024-06-23 00:50:52,472 [ERROR] No supported gene_sets: WikiPathway_2023_HumanMSigDB_Hallmark_2020\n",
      "2024-06-23 00:50:56,822 [WARNING] Duplicated values found in preranked stats: 32.19% of genes\n",
      "The order of those genes will be arbitrary, which may produce unexpected results.\n"
     ]
    },
    {
     "name": "stdout",
     "output_type": "stream",
     "text": [
      "Lamp5\n"
     ]
    },
    {
     "name": "stderr",
     "output_type": "stream",
     "text": [
      "2024-06-23 00:51:07,409 [ERROR] No supported gene_sets: WikiPathway_2023_HumanMSigDB_Hallmark_2020\n",
      "2024-06-23 00:51:18,339 [WARNING] Duplicated values found in preranked stats: 60.02% of genes\n",
      "The order of those genes will be arbitrary, which may produce unexpected results.\n"
     ]
    },
    {
     "name": "stdout",
     "output_type": "stream",
     "text": [
      "L5ET\n"
     ]
    },
    {
     "name": "stderr",
     "output_type": "stream",
     "text": [
      "2024-06-23 00:51:27,262 [ERROR] No supported gene_sets: WikiPathway_2023_HumanMSigDB_Hallmark_2020\n",
      "2024-06-23 00:51:36,108 [WARNING] Duplicated values found in preranked stats: 41.01% of genes\n",
      "The order of those genes will be arbitrary, which may produce unexpected results.\n"
     ]
    },
    {
     "name": "stdout",
     "output_type": "stream",
     "text": [
      "Sst\n"
     ]
    },
    {
     "name": "stderr",
     "output_type": "stream",
     "text": [
      "2024-06-23 00:51:46,694 [ERROR] No supported gene_sets: WikiPathway_2023_HumanMSigDB_Hallmark_2020\n",
      "2024-06-23 00:51:55,515 [WARNING] Duplicated values found in preranked stats: 37.73% of genes\n",
      "The order of those genes will be arbitrary, which may produce unexpected results.\n"
     ]
    },
    {
     "name": "stdout",
     "output_type": "stream",
     "text": [
      "L6CT\n"
     ]
    },
    {
     "name": "stderr",
     "output_type": "stream",
     "text": [
      "2024-06-23 00:52:06,096 [ERROR] No supported gene_sets: WikiPathway_2023_HumanMSigDB_Hallmark_2020\n",
      "2024-06-23 00:52:10,058 [WARNING] Duplicated values found in preranked stats: 45.60% of genes\n",
      "The order of those genes will be arbitrary, which may produce unexpected results.\n"
     ]
    },
    {
     "name": "stdout",
     "output_type": "stream",
     "text": [
      "VLMC\n"
     ]
    },
    {
     "name": "stderr",
     "output_type": "stream",
     "text": [
      "2024-06-23 00:52:20,637 [ERROR] No supported gene_sets: WikiPathway_2023_HumanMSigDB_Hallmark_2020\n",
      "2024-06-23 00:52:26,279 [WARNING] Duplicated values found in preranked stats: 42.78% of genes\n",
      "The order of those genes will be arbitrary, which may produce unexpected results.\n"
     ]
    },
    {
     "name": "stdout",
     "output_type": "stream",
     "text": [
      "Vip\n"
     ]
    },
    {
     "name": "stderr",
     "output_type": "stream",
     "text": [
      "2024-06-23 00:52:36,864 [ERROR] No supported gene_sets: WikiPathway_2023_HumanMSigDB_Hallmark_2020\n",
      "2024-06-23 00:52:43,294 [WARNING] Duplicated values found in preranked stats: 42.92% of genes\n",
      "The order of those genes will be arbitrary, which may produce unexpected results.\n"
     ]
    },
    {
     "name": "stdout",
     "output_type": "stream",
     "text": [
      "L6ITCar3\n"
     ]
    },
    {
     "name": "stderr",
     "output_type": "stream",
     "text": [
      "2024-06-23 00:52:53,871 [ERROR] No supported gene_sets: WikiPathway_2023_HumanMSigDB_Hallmark_2020\n",
      "2024-06-23 00:53:05,617 [WARNING] Duplicated values found in preranked stats: 36.01% of genes\n",
      "The order of those genes will be arbitrary, which may produce unexpected results.\n"
     ]
    },
    {
     "name": "stdout",
     "output_type": "stream",
     "text": [
      "L23IT\n"
     ]
    },
    {
     "name": "stderr",
     "output_type": "stream",
     "text": [
      "2024-06-23 00:53:13,713 [ERROR] No supported gene_sets: WikiPathway_2023_HumanMSigDB_Hallmark_2020\n",
      "2024-06-23 00:53:28,244 [WARNING] Duplicated values found in preranked stats: 40.02% of genes\n",
      "The order of those genes will be arbitrary, which may produce unexpected results.\n"
     ]
    },
    {
     "name": "stdout",
     "output_type": "stream",
     "text": [
      "OPC\n"
     ]
    },
    {
     "name": "stderr",
     "output_type": "stream",
     "text": [
      "2024-06-23 00:53:38,899 [ERROR] No supported gene_sets: WikiPathway_2023_HumanMSigDB_Hallmark_2020\n",
      "2024-06-23 00:53:49,729 [WARNING] Duplicated values found in preranked stats: 33.45% of genes\n",
      "The order of those genes will be arbitrary, which may produce unexpected results.\n"
     ]
    },
    {
     "name": "stdout",
     "output_type": "stream",
     "text": [
      "L6IT\n"
     ]
    },
    {
     "name": "stderr",
     "output_type": "stream",
     "text": [
      "2024-06-23 00:53:58,771 [ERROR] No supported gene_sets: WikiPathway_2023_HumanMSigDB_Hallmark_2020\n",
      "2024-06-23 00:54:05,642 [WARNING] Duplicated values found in preranked stats: 43.12% of genes\n",
      "The order of those genes will be arbitrary, which may produce unexpected results.\n"
     ]
    },
    {
     "name": "stdout",
     "output_type": "stream",
     "text": [
      "Microglia-PVM\n"
     ]
    },
    {
     "name": "stderr",
     "output_type": "stream",
     "text": [
      "2024-06-23 00:54:16,238 [ERROR] No supported gene_sets: WikiPathway_2023_HumanMSigDB_Hallmark_2020\n",
      "2024-06-23 00:54:23,459 [WARNING] Duplicated values found in preranked stats: 36.95% of genes\n",
      "The order of those genes will be arbitrary, which may produce unexpected results.\n"
     ]
    },
    {
     "name": "stdout",
     "output_type": "stream",
     "text": [
      "L4IT\n"
     ]
    },
    {
     "name": "stderr",
     "output_type": "stream",
     "text": [
      "2024-06-23 00:54:34,047 [ERROR] No supported gene_sets: WikiPathway_2023_HumanMSigDB_Hallmark_2020\n",
      "2024-06-23 00:54:46,056 [WARNING] Duplicated values found in preranked stats: 44.14% of genes\n",
      "The order of those genes will be arbitrary, which may produce unexpected results.\n"
     ]
    },
    {
     "name": "stdout",
     "output_type": "stream",
     "text": [
      "L6b\n"
     ]
    },
    {
     "name": "stderr",
     "output_type": "stream",
     "text": [
      "2024-06-23 00:54:56,651 [ERROR] No supported gene_sets: WikiPathway_2023_HumanMSigDB_Hallmark_2020\n",
      "2024-06-23 00:55:06,948 [WARNING] Duplicated values found in preranked stats: 53.14% of genes\n",
      "The order of those genes will be arbitrary, which may produce unexpected results.\n"
     ]
    },
    {
     "name": "stdout",
     "output_type": "stream",
     "text": [
      "Endothelial\n"
     ]
    },
    {
     "name": "stderr",
     "output_type": "stream",
     "text": [
      "2024-06-23 00:55:16,498 [ERROR] No supported gene_sets: WikiPathway_2023_HumanMSigDB_Hallmark_2020\n",
      "2024-06-23 00:55:25,782 [WARNING] Duplicated values found in preranked stats: 39.54% of genes\n",
      "The order of those genes will be arbitrary, which may produce unexpected results.\n"
     ]
    },
    {
     "name": "stdout",
     "output_type": "stream",
     "text": [
      "Pvalb\n"
     ]
    },
    {
     "name": "stderr",
     "output_type": "stream",
     "text": [
      "2024-06-23 00:55:36,374 [ERROR] No supported gene_sets: WikiPathway_2023_HumanMSigDB_Hallmark_2020\n",
      "2024-06-23 00:55:46,886 [WARNING] Duplicated values found in preranked stats: 10.58% of genes\n",
      "The order of those genes will be arbitrary, which may produce unexpected results.\n"
     ]
    },
    {
     "name": "stdout",
     "output_type": "stream",
     "text": [
      "Oligodendrocyte\n"
     ]
    },
    {
     "name": "stderr",
     "output_type": "stream",
     "text": [
      "2024-06-23 00:55:56,222 [ERROR] No supported gene_sets: WikiPathway_2023_HumanMSigDB_Hallmark_2020\n",
      "2024-06-23 00:55:57,846 [WARNING] Duplicated values found in preranked stats: 47.91% of genes\n",
      "The order of those genes will be arbitrary, which may produce unexpected results.\n"
     ]
    },
    {
     "name": "stdout",
     "output_type": "stream",
     "text": [
      "Astrocyte\n"
     ]
    },
    {
     "name": "stderr",
     "output_type": "stream",
     "text": [
      "2024-06-23 00:56:08,436 [ERROR] No supported gene_sets: WikiPathway_2023_HumanMSigDB_Hallmark_2020\n",
      "2024-06-23 00:56:17,183 [WARNING] Duplicated values found in preranked stats: 35.89% of genes\n",
      "The order of those genes will be arbitrary, which may produce unexpected results.\n"
     ]
    },
    {
     "name": "stdout",
     "output_type": "stream",
     "text": [
      "Sncg\n"
     ]
    },
    {
     "name": "stderr",
     "output_type": "stream",
     "text": [
      "2024-06-23 00:56:27,776 [ERROR] No supported gene_sets: WikiPathway_2023_HumanMSigDB_Hallmark_2020\n",
      "2024-06-23 00:56:39,400 [WARNING] Duplicated values found in preranked stats: 37.87% of genes\n",
      "The order of those genes will be arbitrary, which may produce unexpected results.\n"
     ]
    },
    {
     "name": "stdout",
     "output_type": "stream",
     "text": [
      "L56NP\n"
     ]
    },
    {
     "name": "stderr",
     "output_type": "stream",
     "text": [
      "2024-06-23 00:56:50,007 [ERROR] No supported gene_sets: WikiPathway_2023_HumanMSigDB_Hallmark_2020\n",
      "2024-06-23 00:57:02,067 [WARNING] Duplicated values found in preranked stats: 33.05% of genes\n",
      "The order of those genes will be arbitrary, which may produce unexpected results.\n"
     ]
    },
    {
     "name": "stdout",
     "output_type": "stream",
     "text": [
      "Lamp5Lhx6\n"
     ]
    },
    {
     "name": "stderr",
     "output_type": "stream",
     "text": [
      "2024-06-23 00:57:09,841 [ERROR] No supported gene_sets: WikiPathway_2023_HumanMSigDB_Hallmark_2020\n",
      "2024-06-23 00:57:18,298 [WARNING] Duplicated values found in preranked stats: 64.49% of genes\n",
      "The order of those genes will be arbitrary, which may produce unexpected results.\n"
     ]
    },
    {
     "name": "stdout",
     "output_type": "stream",
     "text": [
      "SstChodl\n"
     ]
    },
    {
     "name": "stderr",
     "output_type": "stream",
     "text": [
      "2024-06-23 00:57:28,883 [ERROR] No supported gene_sets: WikiPathway_2023_HumanMSigDB_Hallmark_2020\n",
      "2024-06-23 00:57:37,334 [WARNING] Duplicated values found in preranked stats: 34.03% of genes\n",
      "The order of those genes will be arbitrary, which may produce unexpected results.\n"
     ]
    },
    {
     "name": "stdout",
     "output_type": "stream",
     "text": [
      "Pax6\n"
     ]
    },
    {
     "name": "stderr",
     "output_type": "stream",
     "text": [
      "2024-06-23 00:57:47,920 [ERROR] No supported gene_sets: WikiPathway_2023_HumanMSigDB_Hallmark_2020\n"
     ]
    }
   ],
   "source": [
    "file_path_diff_exp = '../../results/human_alcohol_brenner_et_al/scvi/'\n",
    "file_path_gmt = '../../gene_sets/'\n",
    "gsea_on = 'all_de_genes/'#'all_de_genes' or 'positive_regulated' or 'negative_regulated'\n",
    "results_dir = '../../results/human_alcohol_brenner_et_al/GSEA/eneuro_review/'+gsea_on#Make sure correct DEG data frame is read as 'input_gsea'\n",
    "\n",
    "for file in os.listdir(file_path_diff_exp):\n",
    "    if 'tsv' in file and 'all' not in file and 'lfc' not in file:\n",
    "        diff_exp = pd.read_csv(file_path_diff_exp+file, sep='\\t',index_col=0)\n",
    "        diff_exp.loc[:,'sign_lfc']=np.where(diff_exp['lfc_median']<0,-1,1)\n",
    "        file = file.replace(\" \",\"\")\n",
    "        cell_type = \"\".join(i for i in file.split('_')[3:]).replace('.tsv',\"\")\n",
    "        print(cell_type)\n",
    "        \n",
    "        ######################## For all DEGs or separate +ve and -ve regulated genes############################\n",
    "        col = np.where(diff_exp.columns=='log10_pscore')[0]\n",
    "        diff_exp.loc[:,'metric_gsea'] = diff_exp['log10_pscore']*diff_exp['sign_lfc']\n",
    "        input_gsea = pd.DataFrame(columns=['metric_gsea'])\n",
    "        \n",
    "        if gsea_on=='all_de_genes/':\n",
    "            input_gsea = diff_exp.loc[:,'metric_gsea']\n",
    "        #Positive DEGs:\n",
    "        elif gsea_on=='positive_regulated/':\n",
    "            input_gsea = diff_exp.iloc[list(np.where(diff_exp['lfc_median']>0)[0]),'metric_gsea']        \n",
    "        #Negative DEGs\n",
    "        elif gsea_on=='negative_regulated/':\n",
    "            input_gsea = diff_exp.iloc[np.where(diff_exp.lfc_median<0)[0],'metric_gsea']\n",
    "        \n",
    "        input_gsea = input_gsea.sort_values(ascending=False)\n",
    "        gsea_all_paths = pd.DataFrame()\n",
    "        \n",
    "        ## Exception handling for when the gmt gene set is irrelevant for the differentially expressed genes\n",
    "        try:\n",
    "            gsea_result = gseapy.prerank(rnk=input_gsea, gene_sets=gene_sets_to_test, organism='human')\n",
    "        except LookupError:\n",
    "            continue\n",
    "        #filtered_sets = gsea_result.res2d.iloc[\n",
    "                                            #np.where((gsea_result.res2d['NOM p-val']<=0.05)&\n",
    "                                                    #(gsea_result.res2d['FDR q-val']<=0.25))[0]\n",
    "                                            #,:]\n",
    "        filtered_sets = gsea_result.res2d\n",
    "        if len(filtered_sets)>0:\n",
    "            gsea_all_paths = pd.concat([gsea_all_paths,filtered_sets]).reset_index(drop=True)\n",
    "            gsea_all_paths=gsea_all_paths.drop_duplicates()\n",
    "            gsea_all_paths.to_csv(results_dir+cell_type+'.tsv', sep='\\t')"
   ]
  },
  {
   "cell_type": "code",
   "execution_count": null,
   "id": "7f72a413-b02c-4327-b200-69495ecaac8e",
   "metadata": {},
   "outputs": [],
   "source": []
  }
 ],
 "metadata": {
  "kernelspec": {
   "display_name": "Python 3 (ipykernel)",
   "language": "python",
   "name": "python3"
  },
  "language_info": {
   "codemirror_mode": {
    "name": "ipython",
    "version": 3
   },
   "file_extension": ".py",
   "mimetype": "text/x-python",
   "name": "python",
   "nbconvert_exporter": "python",
   "pygments_lexer": "ipython3",
   "version": "3.10.12"
  }
 },
 "nbformat": 4,
 "nbformat_minor": 5
}
