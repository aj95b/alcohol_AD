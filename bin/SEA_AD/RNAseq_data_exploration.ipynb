{
 "cells": [
  {
   "cell_type": "code",
   "execution_count": 1,
   "id": "ac249f46",
   "metadata": {},
   "outputs": [],
   "source": [
    "import pandas as pd\n",
    "import numpy as np\n",
    "import matplotlib.pyplot as plt\n",
    "import h5py\n",
    "from scipy.sparse import csr_matrix\n",
    "import gzip\n",
    "from dask import dataframe as dd"
   ]
  },
  {
   "cell_type": "markdown",
   "id": "dcff2228",
   "metadata": {},
   "source": [
    "## Read in data using H5py and see all the keys and underlying contents"
   ]
  },
  {
   "cell_type": "code",
   "execution_count": 2,
   "id": "c8192d87",
   "metadata": {},
   "outputs": [
    {
     "data": {
      "text/plain": [
       "<KeysViewHDF5 ['X', 'layers', 'obs', 'obsm', 'obsp', 'uns', 'var']>"
      ]
     },
     "execution_count": 2,
     "metadata": {},
     "output_type": "execute_result"
    }
   ],
   "source": [
    "mtg_rna = h5py.File('../../AD_data/SEA_AD/MTG/RNAseq/SEAAD_MTG_RNAseq_final-nuclei.2023-05-05.h5ad')\n",
    "mtg_rna.keys()"
   ]
  },
  {
   "cell_type": "code",
   "execution_count": 3,
   "id": "3c96673c",
   "metadata": {},
   "outputs": [
    {
     "data": {
      "text/plain": [
       "<KeysViewHDF5 ['data', 'indices', 'indptr']>"
      ]
     },
     "execution_count": 3,
     "metadata": {},
     "output_type": "execute_result"
    }
   ],
   "source": [
    "mtg_rna.get('X').keys()"
   ]
  },
  {
   "cell_type": "code",
   "execution_count": 4,
   "id": "86af3ed7",
   "metadata": {},
   "outputs": [
    {
     "data": {
      "text/plain": [
       "<KeysViewHDF5 ['data', 'indices', 'indptr']>"
      ]
     },
     "execution_count": 4,
     "metadata": {},
     "output_type": "execute_result"
    }
   ],
   "source": [
    "mtg_rna.get('layers').get('UMIs').keys()"
   ]
  },
  {
   "cell_type": "code",
   "execution_count": 5,
   "id": "4ab992ed",
   "metadata": {},
   "outputs": [
    {
     "data": {
      "text/plain": [
       "<KeysViewHDF5 ['X_scVI', 'X_umap']>"
      ]
     },
     "execution_count": 5,
     "metadata": {},
     "output_type": "execute_result"
    }
   ],
   "source": [
    "mtg_rna.get('obsm').keys()"
   ]
  },
  {
   "cell_type": "code",
   "execution_count": 6,
   "id": "6048e522",
   "metadata": {},
   "outputs": [
    {
     "data": {
      "text/plain": [
       "<KeysViewHDF5 ['APOE4 Status_colors', 'Braak_colors', 'CERAD score_colors', 'Cognitive Status_colors', 'Great Apes Metadata', 'Highest Lewy Body Disease_colors', 'LATE_colors', 'Overall AD neuropathological Change_colors', 'Sex_colors', 'Subclass_colors', 'Supertype_colors', 'Thal_colors', 'UW Clinical Metadata', 'X_normalization', 'batch_condition', 'default_embedding', 'neighbors', 'title', 'umap']>"
      ]
     },
     "execution_count": 6,
     "metadata": {},
     "output_type": "execute_result"
    }
   ],
   "source": [
    "mtg_rna.get('uns').keys()"
   ]
  },
  {
   "cell_type": "code",
   "execution_count": 7,
   "id": "92a9afcc",
   "metadata": {},
   "outputs": [
    {
     "data": {
      "text/plain": [
       "<KeysViewHDF5 ['_index', 'gene_ids']>"
      ]
     },
     "execution_count": 7,
     "metadata": {},
     "output_type": "execute_result"
    }
   ],
   "source": [
    "mtg_rna.get('var').keys()"
   ]
  },
  {
   "cell_type": "code",
   "execution_count": 8,
   "id": "1bfe8cfe",
   "metadata": {},
   "outputs": [
    {
     "data": {
      "text/plain": [
       "['APOE4 Status',\n",
       " 'ATAC_Confidently_mapped_read_pairs',\n",
       " 'ATAC_Fraction_of_genome_in_peaks',\n",
       " 'ATAC_Fraction_of_high_quality_fragments_in_cells',\n",
       " 'ATAC_Fraction_of_high_quality_fragments_overlapping_TSS',\n",
       " 'ATAC_Fraction_of_high_quality_fragments_overlapping_peaks',\n",
       " 'ATAC_Fraction_of_transposition_events_in_peaks_in_cells',\n",
       " 'ATAC_Mean_raw_read_pairs_per_cell',\n",
       " 'ATAC_Median_high_quality_fragments_per_cell',\n",
       " 'ATAC_Non-nuclear_read_pairs',\n",
       " 'ATAC_Number_of_peaks',\n",
       " 'ATAC_Percent_duplicates',\n",
       " 'ATAC_Q30_bases_in_barcode',\n",
       " 'ATAC_Q30_bases_in_read_1',\n",
       " 'ATAC_Q30_bases_in_read_2',\n",
       " 'ATAC_Q30_bases_in_sample_index_i1',\n",
       " 'ATAC_Sequenced_read_pairs',\n",
       " 'ATAC_TSS_enrichment_score',\n",
       " 'ATAC_Unmapped_read_pairs',\n",
       " 'ATAC_Valid_barcodes',\n",
       " 'Age at Death',\n",
       " 'Arteriolosclerosis',\n",
       " 'Atherosclerosis',\n",
       " 'Braak',\n",
       " 'Brain Region',\n",
       " 'Brain pH',\n",
       " 'CERAD score',\n",
       " 'Class',\n",
       " 'Class confidence',\n",
       " 'Cognitive Status',\n",
       " 'Continuous Pseudo-progression Score',\n",
       " 'Donor ID',\n",
       " 'Doublet score',\n",
       " 'Fraction mitochondrial UMIs',\n",
       " 'Fresh Brain Weight',\n",
       " 'GEX_Estimated_number_of_cells',\n",
       " 'GEX_Fraction_of_transcriptomic_reads_in_cells',\n",
       " 'GEX_Mean_raw_reads_per_cell',\n",
       " 'GEX_Median_UMI_counts_per_cell',\n",
       " 'GEX_Median_genes_per_cell',\n",
       " 'GEX_Percent_duplicates',\n",
       " 'GEX_Q30_bases_in_UMI',\n",
       " 'GEX_Q30_bases_in_barcode',\n",
       " 'GEX_Q30_bases_in_read_2',\n",
       " 'GEX_Q30_bases_in_sample_index_i1',\n",
       " 'GEX_Q30_bases_in_sample_index_i2',\n",
       " 'GEX_Reads_mapped_antisense_to_gene',\n",
       " 'GEX_Reads_mapped_confidently_to_exonic_regions',\n",
       " 'GEX_Reads_mapped_confidently_to_genome',\n",
       " 'GEX_Reads_mapped_confidently_to_intergenic_regions',\n",
       " 'GEX_Reads_mapped_confidently_to_intronic_regions',\n",
       " 'GEX_Reads_mapped_confidently_to_transcriptome',\n",
       " 'GEX_Reads_mapped_to_genome',\n",
       " 'GEX_Reads_with_TSO',\n",
       " 'GEX_Sequenced_read_pairs',\n",
       " 'GEX_Total_genes_detected',\n",
       " 'GEX_Valid_UMIs',\n",
       " 'GEX_Valid_barcodes',\n",
       " 'GEX_number_of_reads',\n",
       " 'GEX_sequencing_saturation',\n",
       " 'Gender',\n",
       " 'Genes detected',\n",
       " 'Genome',\n",
       " 'Highest Lewy Body Disease',\n",
       " 'Highest level of education',\n",
       " 'Hispanic',\n",
       " 'Interval from last CASI in months',\n",
       " 'Interval from last MMSE in months',\n",
       " 'Interval from last MOCA in months',\n",
       " 'LATE',\n",
       " 'Last CASI Score',\n",
       " 'Last MMSE Score',\n",
       " 'Last MOCA Score',\n",
       " 'Multiome_Feature_linkages_detected',\n",
       " 'Multiome_Linked_genes',\n",
       " 'Multiome_Linked_peaks',\n",
       " 'NeuN positive fraction on FANS',\n",
       " 'Neurotypical reference',\n",
       " 'Number of UMIs',\n",
       " 'Number of mapped reads',\n",
       " 'Number of multimapped reads',\n",
       " 'Number of reads',\n",
       " 'Number of unmapped reads',\n",
       " 'Organism',\n",
       " 'Overall AD neuropathological Change',\n",
       " 'Overall CAA Score',\n",
       " 'PMI',\n",
       " 'Primary Study Name',\n",
       " 'RIN',\n",
       " 'Race (choice=American Indian',\n",
       " 'Race (choice=Asian)',\n",
       " 'Race (choice=Black',\n",
       " 'Race (choice=Native Hawaiian or Pacific Islander)',\n",
       " 'Race (choice=Other)',\n",
       " 'Race (choice=Unknown or unreported)',\n",
       " 'Race (choice=White)',\n",
       " 'Secondary Study Name',\n",
       " 'Sex',\n",
       " 'Subclass',\n",
       " 'Subclass confidence',\n",
       " 'Supertype',\n",
       " 'Supertype (non-expanded)',\n",
       " 'Supertype confidence',\n",
       " 'Thal',\n",
       " 'Total Microinfarcts (not observed grossly)',\n",
       " 'Total microinfarcts in screening sections',\n",
       " 'Used in analysis',\n",
       " 'Years of education',\n",
       " '__categories',\n",
       " 'alignment',\n",
       " 'amplified_quantity_ng',\n",
       " 'ar_id',\n",
       " 'avg_size_bp',\n",
       " 'batch_vendor_name',\n",
       " 'bc',\n",
       " 'cell_prep_type',\n",
       " 'exp_component_name',\n",
       " 'exp_component_vendor_name',\n",
       " 'expc_cell_capture',\n",
       " 'experiment_component_failed',\n",
       " 'facs_population_plan',\n",
       " 'library_input_ng',\n",
       " 'library_prep',\n",
       " 'library_prep_pass_fail',\n",
       " 'load_name',\n",
       " 'method',\n",
       " 'pcr_cycles',\n",
       " 'percent_cdna_longer_than_400bp',\n",
       " 'quantification_fmol',\n",
       " 'r1_index',\n",
       " 'rna_amplification',\n",
       " 'rna_amplification_pass_fail',\n",
       " 'sample_id',\n",
       " 'sample_name',\n",
       " 'sample_quantity_count',\n",
       " 'specify other race']"
      ]
     },
     "execution_count": 8,
     "metadata": {},
     "output_type": "execute_result"
    }
   ],
   "source": [
    "list(mtg_rna.get('obs').keys())"
   ]
  },
  {
   "cell_type": "markdown",
   "id": "b84ba666",
   "metadata": {},
   "source": [
    "## The cell-types and other metadata aassociated with each cell and sample"
   ]
  },
  {
   "cell_type": "code",
   "execution_count": 9,
   "id": "265d2e2c",
   "metadata": {},
   "outputs": [],
   "source": [
    "cell_prep_type = mtg_rna.get('obs').get('cell_prep_type')\n",
    "cell_prep_type = pd.DataFrame(data=cell_prep_type)\n",
    "Class = mtg_rna.get('obs').get('Class')\n",
    "Class = pd.DataFrame(data=Class)\n",
    "subclass = mtg_rna.get('obs').get('Subclass')\n",
    "subclass = pd.DataFrame(data=subclass)\n",
    "brain_region = mtg_rna.get('obs').get('Brain Region')\n",
    "brain_region = pd.DataFrame(data=brain_region)\n",
    "categories = mtg_rna.get('obs').get('__categories')\n",
    "categories = pd.DataFrame(data=categories)"
   ]
  },
  {
   "cell_type": "code",
   "execution_count": 10,
   "id": "75720d12",
   "metadata": {},
   "outputs": [
    {
     "data": {
      "text/html": [
       "<div>\n",
       "<style scoped>\n",
       "    .dataframe tbody tr th:only-of-type {\n",
       "        vertical-align: middle;\n",
       "    }\n",
       "\n",
       "    .dataframe tbody tr th {\n",
       "        vertical-align: top;\n",
       "    }\n",
       "\n",
       "    .dataframe thead th {\n",
       "        text-align: right;\n",
       "    }\n",
       "</style>\n",
       "<table border=\"1\" class=\"dataframe\">\n",
       "  <thead>\n",
       "    <tr style=\"text-align: right;\">\n",
       "      <th></th>\n",
       "      <th>0</th>\n",
       "    </tr>\n",
       "  </thead>\n",
       "  <tbody>\n",
       "    <tr>\n",
       "      <th>0</th>\n",
       "      <td>20</td>\n",
       "    </tr>\n",
       "    <tr>\n",
       "      <th>1</th>\n",
       "      <td>12</td>\n",
       "    </tr>\n",
       "    <tr>\n",
       "      <th>2</th>\n",
       "      <td>9</td>\n",
       "    </tr>\n",
       "    <tr>\n",
       "      <th>3</th>\n",
       "      <td>17</td>\n",
       "    </tr>\n",
       "    <tr>\n",
       "      <th>4</th>\n",
       "      <td>20</td>\n",
       "    </tr>\n",
       "    <tr>\n",
       "      <th>...</th>\n",
       "      <td>...</td>\n",
       "    </tr>\n",
       "    <tr>\n",
       "      <th>1378206</th>\n",
       "      <td>9</td>\n",
       "    </tr>\n",
       "    <tr>\n",
       "      <th>1378207</th>\n",
       "      <td>9</td>\n",
       "    </tr>\n",
       "    <tr>\n",
       "      <th>1378208</th>\n",
       "      <td>20</td>\n",
       "    </tr>\n",
       "    <tr>\n",
       "      <th>1378209</th>\n",
       "      <td>11</td>\n",
       "    </tr>\n",
       "    <tr>\n",
       "      <th>1378210</th>\n",
       "      <td>16</td>\n",
       "    </tr>\n",
       "  </tbody>\n",
       "</table>\n",
       "<p>1378211 rows × 1 columns</p>\n",
       "</div>"
      ],
      "text/plain": [
       "          0\n",
       "0        20\n",
       "1        12\n",
       "2         9\n",
       "3        17\n",
       "4        20\n",
       "...      ..\n",
       "1378206   9\n",
       "1378207   9\n",
       "1378208  20\n",
       "1378209  11\n",
       "1378210  16\n",
       "\n",
       "[1378211 rows x 1 columns]"
      ]
     },
     "execution_count": 10,
     "metadata": {},
     "output_type": "execute_result"
    }
   ],
   "source": [
    "subclass"
   ]
  },
  {
   "cell_type": "code",
   "execution_count": 11,
   "id": "bf8267ca",
   "metadata": {},
   "outputs": [
    {
     "data": {
      "text/plain": [
       "0          Lamp5 Lhx6\n",
       "1               Lamp5\n",
       "2                Pax6\n",
       "3                Sncg\n",
       "4                 Vip\n",
       "5           Sst Chodl\n",
       "6                 Sst\n",
       "7               Pvalb\n",
       "8          Chandelier\n",
       "9             L2/3 IT\n",
       "10              L6 IT\n",
       "11              L4 IT\n",
       "12              L5 IT\n",
       "13              L5 ET\n",
       "14              L6 CT\n",
       "15                L6b\n",
       "16         L6 IT Car3\n",
       "17            L5/6 NP\n",
       "18          Astrocyte\n",
       "19                OPC\n",
       "20    Oligodendrocyte\n",
       "21        Endothelial\n",
       "22               VLMC\n",
       "23      Microglia-PVM\n",
       "Name: 0, dtype: object"
      ]
     },
     "execution_count": 11,
     "metadata": {},
     "output_type": "execute_result"
    }
   ],
   "source": [
    "subclass_cat = mtg_rna.get('obs').get('__categories').get('Subclass')\n",
    "subclass_cat = pd.DataFrame(data=subclass_cat)\n",
    "subclass_cat = subclass_cat.iloc[:,0].apply(lambda s: s.decode('utf-8'))\n",
    "subclass_cat"
   ]
  },
  {
   "cell_type": "code",
   "execution_count": 12,
   "id": "cdb1cad9",
   "metadata": {},
   "outputs": [],
   "source": [
    "braak = mtg_rna.get('obs').get('Braak')\n",
    "braak = pd.DataFrame(data=braak)\n",
    "braak_categories = mtg_rna.get('obs').get('__categories').get('Braak')\n",
    "braak_categories = pd.DataFrame(data=braak_categories)\n",
    "braak_categories = braak_categories.iloc[:,0].apply(lambda s: s.decode('utf-8'))"
   ]
  },
  {
   "cell_type": "code",
   "execution_count": 13,
   "id": "7c117d05",
   "metadata": {},
   "outputs": [
    {
     "data": {
      "text/html": [
       "<div>\n",
       "<style scoped>\n",
       "    .dataframe tbody tr th:only-of-type {\n",
       "        vertical-align: middle;\n",
       "    }\n",
       "\n",
       "    .dataframe tbody tr th {\n",
       "        vertical-align: top;\n",
       "    }\n",
       "\n",
       "    .dataframe thead th {\n",
       "        text-align: right;\n",
       "    }\n",
       "</style>\n",
       "<table border=\"1\" class=\"dataframe\">\n",
       "  <thead>\n",
       "    <tr style=\"text-align: right;\">\n",
       "      <th></th>\n",
       "      <th>0</th>\n",
       "    </tr>\n",
       "  </thead>\n",
       "  <tbody>\n",
       "    <tr>\n",
       "      <th>0</th>\n",
       "      <td>4</td>\n",
       "    </tr>\n",
       "    <tr>\n",
       "      <th>1</th>\n",
       "      <td>5</td>\n",
       "    </tr>\n",
       "    <tr>\n",
       "      <th>2</th>\n",
       "      <td>4</td>\n",
       "    </tr>\n",
       "    <tr>\n",
       "      <th>3</th>\n",
       "      <td>4</td>\n",
       "    </tr>\n",
       "    <tr>\n",
       "      <th>4</th>\n",
       "      <td>6</td>\n",
       "    </tr>\n",
       "    <tr>\n",
       "      <th>...</th>\n",
       "      <td>...</td>\n",
       "    </tr>\n",
       "    <tr>\n",
       "      <th>1378206</th>\n",
       "      <td>4</td>\n",
       "    </tr>\n",
       "    <tr>\n",
       "      <th>1378207</th>\n",
       "      <td>5</td>\n",
       "    </tr>\n",
       "    <tr>\n",
       "      <th>1378208</th>\n",
       "      <td>3</td>\n",
       "    </tr>\n",
       "    <tr>\n",
       "      <th>1378209</th>\n",
       "      <td>4</td>\n",
       "    </tr>\n",
       "    <tr>\n",
       "      <th>1378210</th>\n",
       "      <td>5</td>\n",
       "    </tr>\n",
       "  </tbody>\n",
       "</table>\n",
       "<p>1378211 rows × 1 columns</p>\n",
       "</div>"
      ],
      "text/plain": [
       "         0\n",
       "0        4\n",
       "1        5\n",
       "2        4\n",
       "3        4\n",
       "4        6\n",
       "...     ..\n",
       "1378206  4\n",
       "1378207  5\n",
       "1378208  3\n",
       "1378209  4\n",
       "1378210  5\n",
       "\n",
       "[1378211 rows x 1 columns]"
      ]
     },
     "execution_count": 13,
     "metadata": {},
     "output_type": "execute_result"
    }
   ],
   "source": [
    "braak"
   ]
  },
  {
   "cell_type": "code",
   "execution_count": 14,
   "id": "d2c60831",
   "metadata": {},
   "outputs": [
    {
     "data": {
      "text/plain": [
       "0    Reference\n",
       "1      Braak 0\n",
       "2     Braak II\n",
       "3    Braak III\n",
       "4     Braak IV\n",
       "5      Braak V\n",
       "6     Braak VI\n",
       "Name: 0, dtype: object"
      ]
     },
     "execution_count": 14,
     "metadata": {},
     "output_type": "execute_result"
    }
   ],
   "source": [
    "braak_categories"
   ]
  },
  {
   "cell_type": "markdown",
   "id": "025ab5f3",
   "metadata": {},
   "source": [
    "## Donor ID for each cell"
   ]
  },
  {
   "cell_type": "code",
   "execution_count": 15,
   "id": "d54300fb",
   "metadata": {},
   "outputs": [
    {
     "data": {
      "text/html": [
       "<div>\n",
       "<style scoped>\n",
       "    .dataframe tbody tr th:only-of-type {\n",
       "        vertical-align: middle;\n",
       "    }\n",
       "\n",
       "    .dataframe tbody tr th {\n",
       "        vertical-align: top;\n",
       "    }\n",
       "\n",
       "    .dataframe thead th {\n",
       "        text-align: right;\n",
       "    }\n",
       "</style>\n",
       "<table border=\"1\" class=\"dataframe\">\n",
       "  <thead>\n",
       "    <tr style=\"text-align: right;\">\n",
       "      <th></th>\n",
       "      <th>0</th>\n",
       "    </tr>\n",
       "  </thead>\n",
       "  <tbody>\n",
       "    <tr>\n",
       "      <th>0</th>\n",
       "      <td>30</td>\n",
       "    </tr>\n",
       "    <tr>\n",
       "      <th>1</th>\n",
       "      <td>75</td>\n",
       "    </tr>\n",
       "    <tr>\n",
       "      <th>2</th>\n",
       "      <td>13</td>\n",
       "    </tr>\n",
       "    <tr>\n",
       "      <th>3</th>\n",
       "      <td>56</td>\n",
       "    </tr>\n",
       "    <tr>\n",
       "      <th>4</th>\n",
       "      <td>29</td>\n",
       "    </tr>\n",
       "    <tr>\n",
       "      <th>...</th>\n",
       "      <td>...</td>\n",
       "    </tr>\n",
       "    <tr>\n",
       "      <th>1378206</th>\n",
       "      <td>64</td>\n",
       "    </tr>\n",
       "    <tr>\n",
       "      <th>1378207</th>\n",
       "      <td>67</td>\n",
       "    </tr>\n",
       "    <tr>\n",
       "      <th>1378208</th>\n",
       "      <td>11</td>\n",
       "    </tr>\n",
       "    <tr>\n",
       "      <th>1378209</th>\n",
       "      <td>53</td>\n",
       "    </tr>\n",
       "    <tr>\n",
       "      <th>1378210</th>\n",
       "      <td>14</td>\n",
       "    </tr>\n",
       "  </tbody>\n",
       "</table>\n",
       "<p>1378211 rows × 1 columns</p>\n",
       "</div>"
      ],
      "text/plain": [
       "          0\n",
       "0        30\n",
       "1        75\n",
       "2        13\n",
       "3        56\n",
       "4        29\n",
       "...      ..\n",
       "1378206  64\n",
       "1378207  67\n",
       "1378208  11\n",
       "1378209  53\n",
       "1378210  14\n",
       "\n",
       "[1378211 rows x 1 columns]"
      ]
     },
     "execution_count": 15,
     "metadata": {},
     "output_type": "execute_result"
    }
   ],
   "source": [
    "donor_id = mtg_rna.get('obs').get('Donor ID')\n",
    "donor_id = pd. DataFrame(data=donor_id)\n",
    "donor_id"
   ]
  },
  {
   "cell_type": "markdown",
   "id": "65a5b00c",
   "metadata": {},
   "source": [
    "## All the hidden categories"
   ]
  },
  {
   "cell_type": "code",
   "execution_count": 16,
   "id": "a8358109",
   "metadata": {},
   "outputs": [
    {
     "data": {
      "text/plain": [
       "0                                          APOE4 Status\n",
       "1                                          Age at Death\n",
       "2                                    Arteriolosclerosis\n",
       "3                                       Atherosclerosis\n",
       "4                                                 Braak\n",
       "5                                          Brain Region\n",
       "6                                              Brain pH\n",
       "7                                           CERAD score\n",
       "8                                                 Class\n",
       "9                                      Cognitive Status\n",
       "10                                             Donor ID\n",
       "11                                   Fresh Brain Weight\n",
       "12                                               Gender\n",
       "13                                               Genome\n",
       "14                            Highest Lewy Body Disease\n",
       "15                           Highest level of education\n",
       "16                                             Hispanic\n",
       "17                    Interval from last CASI in months\n",
       "18                    Interval from last MMSE in months\n",
       "19                    Interval from last MOCA in months\n",
       "20                                                 LATE\n",
       "21                                      Last CASI Score\n",
       "22                                      Last MMSE Score\n",
       "23                                      Last MOCA Score\n",
       "24                       NeuN positive fraction on FANS\n",
       "25                               Neurotypical reference\n",
       "26                                             Organism\n",
       "27                  Overall AD neuropathological Change\n",
       "28                                    Overall CAA Score\n",
       "29                                                  PMI\n",
       "30                                   Primary Study Name\n",
       "31                                                  RIN\n",
       "32                         Race (choice=American Indian\n",
       "33                                  Race (choice=Asian)\n",
       "34                                   Race (choice=Black\n",
       "35    Race (choice=Native Hawaiian or Pacific Islander)\n",
       "36                                  Race (choice=Other)\n",
       "37                  Race (choice=Unknown or unreported)\n",
       "38                                  Race (choice=White)\n",
       "39                                 Secondary Study Name\n",
       "40                                                  Sex\n",
       "41                                             Subclass\n",
       "42                                            Supertype\n",
       "43                             Supertype (non-expanded)\n",
       "44                                                 Thal\n",
       "45           Total Microinfarcts (not observed grossly)\n",
       "46            Total microinfarcts in screening sections\n",
       "47                                   Years of education\n",
       "48                                            alignment\n",
       "49                                    batch_vendor_name\n",
       "50                                                   bc\n",
       "51                                       cell_prep_type\n",
       "52                            exp_component_vendor_name\n",
       "53                                 facs_population_plan\n",
       "54                                         library_prep\n",
       "55                               library_prep_pass_fail\n",
       "56                                            load_name\n",
       "57                                               method\n",
       "58                                             r1_index\n",
       "59                                    rna_amplification\n",
       "Name: 0, dtype: object"
      ]
     },
     "execution_count": 16,
     "metadata": {},
     "output_type": "execute_result"
    }
   ],
   "source": [
    "categories.iloc[0:60,0]"
   ]
  },
  {
   "cell_type": "code",
   "execution_count": 17,
   "id": "c6f8f60e",
   "metadata": {},
   "outputs": [
    {
     "data": {
      "text/plain": [
       "60    rna_amplification_pass_fail\n",
       "61                    sample_name\n",
       "62             specify other race\n",
       "Name: 0, dtype: object"
      ]
     },
     "execution_count": 17,
     "metadata": {},
     "output_type": "execute_result"
    }
   ],
   "source": [
    "categories.iloc[60:,0]"
   ]
  },
  {
   "cell_type": "markdown",
   "id": "c9bc95ce",
   "metadata": {},
   "source": [
    "## Reduce representations of the data"
   ]
  },
  {
   "cell_type": "code",
   "execution_count": 18,
   "id": "a341e937",
   "metadata": {},
   "outputs": [],
   "source": [
    "X_scvi = mtg_rna.get('obsm').get('X_scVI')\n",
    "X_umap = mtg_rna.get('obsm').get('X_umap')\n",
    "X_scvi = pd.DataFrame(data=X_scvi)\n",
    "X_umap = pd.DataFrame(data=X_umap)"
   ]
  },
  {
   "cell_type": "code",
   "execution_count": 19,
   "id": "34c43902",
   "metadata": {},
   "outputs": [
    {
     "data": {
      "text/html": [
       "<div>\n",
       "<style scoped>\n",
       "    .dataframe tbody tr th:only-of-type {\n",
       "        vertical-align: middle;\n",
       "    }\n",
       "\n",
       "    .dataframe tbody tr th {\n",
       "        vertical-align: top;\n",
       "    }\n",
       "\n",
       "    .dataframe thead th {\n",
       "        text-align: right;\n",
       "    }\n",
       "</style>\n",
       "<table border=\"1\" class=\"dataframe\">\n",
       "  <thead>\n",
       "    <tr style=\"text-align: right;\">\n",
       "      <th></th>\n",
       "      <th>0</th>\n",
       "      <th>1</th>\n",
       "      <th>2</th>\n",
       "      <th>3</th>\n",
       "      <th>4</th>\n",
       "      <th>5</th>\n",
       "      <th>6</th>\n",
       "      <th>7</th>\n",
       "      <th>8</th>\n",
       "      <th>9</th>\n",
       "      <th>10</th>\n",
       "      <th>11</th>\n",
       "      <th>12</th>\n",
       "      <th>13</th>\n",
       "      <th>14</th>\n",
       "      <th>15</th>\n",
       "      <th>16</th>\n",
       "      <th>17</th>\n",
       "      <th>18</th>\n",
       "      <th>19</th>\n",
       "    </tr>\n",
       "  </thead>\n",
       "  <tbody>\n",
       "    <tr>\n",
       "      <th>0</th>\n",
       "      <td>-2.027106</td>\n",
       "      <td>0.698614</td>\n",
       "      <td>-1.353345</td>\n",
       "      <td>-0.597451</td>\n",
       "      <td>-0.619398</td>\n",
       "      <td>0.831723</td>\n",
       "      <td>-0.819715</td>\n",
       "      <td>-0.135807</td>\n",
       "      <td>1.165330</td>\n",
       "      <td>-0.533898</td>\n",
       "      <td>-1.763904</td>\n",
       "      <td>0.297857</td>\n",
       "      <td>-0.192814</td>\n",
       "      <td>1.220392</td>\n",
       "      <td>0.744705</td>\n",
       "      <td>-1.261555</td>\n",
       "      <td>-0.060014</td>\n",
       "      <td>0.492368</td>\n",
       "      <td>-0.148011</td>\n",
       "      <td>-0.160856</td>\n",
       "    </tr>\n",
       "    <tr>\n",
       "      <th>1</th>\n",
       "      <td>-0.969393</td>\n",
       "      <td>-1.652711</td>\n",
       "      <td>-0.140260</td>\n",
       "      <td>0.797619</td>\n",
       "      <td>-2.233307</td>\n",
       "      <td>-0.691485</td>\n",
       "      <td>0.333146</td>\n",
       "      <td>0.967864</td>\n",
       "      <td>-1.240105</td>\n",
       "      <td>0.829085</td>\n",
       "      <td>-2.499836</td>\n",
       "      <td>-3.067173</td>\n",
       "      <td>1.408871</td>\n",
       "      <td>1.200159</td>\n",
       "      <td>0.816906</td>\n",
       "      <td>0.426851</td>\n",
       "      <td>-0.263828</td>\n",
       "      <td>-2.428107</td>\n",
       "      <td>0.144745</td>\n",
       "      <td>1.074235</td>\n",
       "    </tr>\n",
       "    <tr>\n",
       "      <th>2</th>\n",
       "      <td>0.638351</td>\n",
       "      <td>-1.126229</td>\n",
       "      <td>1.300591</td>\n",
       "      <td>1.057289</td>\n",
       "      <td>-0.554248</td>\n",
       "      <td>-0.601467</td>\n",
       "      <td>-0.552929</td>\n",
       "      <td>0.002447</td>\n",
       "      <td>2.447047</td>\n",
       "      <td>1.635807</td>\n",
       "      <td>0.999726</td>\n",
       "      <td>-1.197686</td>\n",
       "      <td>0.685836</td>\n",
       "      <td>-0.184931</td>\n",
       "      <td>1.697181</td>\n",
       "      <td>1.119739</td>\n",
       "      <td>-1.365324</td>\n",
       "      <td>1.808707</td>\n",
       "      <td>-0.093848</td>\n",
       "      <td>0.527784</td>\n",
       "    </tr>\n",
       "    <tr>\n",
       "      <th>3</th>\n",
       "      <td>-0.278161</td>\n",
       "      <td>-0.517570</td>\n",
       "      <td>0.339013</td>\n",
       "      <td>-0.903170</td>\n",
       "      <td>-2.281305</td>\n",
       "      <td>-0.035991</td>\n",
       "      <td>-0.651971</td>\n",
       "      <td>-1.120946</td>\n",
       "      <td>0.736014</td>\n",
       "      <td>-0.052497</td>\n",
       "      <td>-0.676760</td>\n",
       "      <td>-1.169442</td>\n",
       "      <td>-1.074534</td>\n",
       "      <td>0.021484</td>\n",
       "      <td>-0.176420</td>\n",
       "      <td>2.382935</td>\n",
       "      <td>0.793396</td>\n",
       "      <td>-1.433841</td>\n",
       "      <td>-2.058723</td>\n",
       "      <td>2.215209</td>\n",
       "    </tr>\n",
       "    <tr>\n",
       "      <th>4</th>\n",
       "      <td>-0.970590</td>\n",
       "      <td>1.082500</td>\n",
       "      <td>-1.627025</td>\n",
       "      <td>-0.548828</td>\n",
       "      <td>-0.622542</td>\n",
       "      <td>1.220099</td>\n",
       "      <td>-1.300437</td>\n",
       "      <td>-0.276280</td>\n",
       "      <td>1.137610</td>\n",
       "      <td>-2.273913</td>\n",
       "      <td>-1.123910</td>\n",
       "      <td>1.387637</td>\n",
       "      <td>-0.058860</td>\n",
       "      <td>1.506119</td>\n",
       "      <td>-0.351381</td>\n",
       "      <td>-1.322799</td>\n",
       "      <td>-0.512780</td>\n",
       "      <td>-0.222475</td>\n",
       "      <td>1.160798</td>\n",
       "      <td>0.096138</td>\n",
       "    </tr>\n",
       "    <tr>\n",
       "      <th>...</th>\n",
       "      <td>...</td>\n",
       "      <td>...</td>\n",
       "      <td>...</td>\n",
       "      <td>...</td>\n",
       "      <td>...</td>\n",
       "      <td>...</td>\n",
       "      <td>...</td>\n",
       "      <td>...</td>\n",
       "      <td>...</td>\n",
       "      <td>...</td>\n",
       "      <td>...</td>\n",
       "      <td>...</td>\n",
       "      <td>...</td>\n",
       "      <td>...</td>\n",
       "      <td>...</td>\n",
       "      <td>...</td>\n",
       "      <td>...</td>\n",
       "      <td>...</td>\n",
       "      <td>...</td>\n",
       "      <td>...</td>\n",
       "    </tr>\n",
       "    <tr>\n",
       "      <th>1378206</th>\n",
       "      <td>-0.567254</td>\n",
       "      <td>-1.315838</td>\n",
       "      <td>-0.757829</td>\n",
       "      <td>0.175219</td>\n",
       "      <td>-0.247883</td>\n",
       "      <td>0.414340</td>\n",
       "      <td>0.254362</td>\n",
       "      <td>0.467260</td>\n",
       "      <td>-0.121558</td>\n",
       "      <td>1.926495</td>\n",
       "      <td>-3.141425</td>\n",
       "      <td>1.730416</td>\n",
       "      <td>1.673390</td>\n",
       "      <td>-0.131467</td>\n",
       "      <td>0.147619</td>\n",
       "      <td>0.992856</td>\n",
       "      <td>-0.514649</td>\n",
       "      <td>-0.588267</td>\n",
       "      <td>-0.336150</td>\n",
       "      <td>-0.043429</td>\n",
       "    </tr>\n",
       "    <tr>\n",
       "      <th>1378207</th>\n",
       "      <td>-1.248705</td>\n",
       "      <td>-1.898495</td>\n",
       "      <td>-0.176328</td>\n",
       "      <td>-0.624121</td>\n",
       "      <td>1.253515</td>\n",
       "      <td>-1.272985</td>\n",
       "      <td>0.279909</td>\n",
       "      <td>1.374706</td>\n",
       "      <td>-0.988508</td>\n",
       "      <td>2.258581</td>\n",
       "      <td>-1.723185</td>\n",
       "      <td>0.319415</td>\n",
       "      <td>-0.351999</td>\n",
       "      <td>-1.217218</td>\n",
       "      <td>-0.028370</td>\n",
       "      <td>0.312025</td>\n",
       "      <td>-1.881534</td>\n",
       "      <td>-0.130105</td>\n",
       "      <td>-1.252263</td>\n",
       "      <td>-1.115234</td>\n",
       "    </tr>\n",
       "    <tr>\n",
       "      <th>1378208</th>\n",
       "      <td>-0.032313</td>\n",
       "      <td>1.663280</td>\n",
       "      <td>-1.918703</td>\n",
       "      <td>-0.687156</td>\n",
       "      <td>-0.237924</td>\n",
       "      <td>1.036288</td>\n",
       "      <td>-1.517288</td>\n",
       "      <td>0.545578</td>\n",
       "      <td>0.902072</td>\n",
       "      <td>-0.533370</td>\n",
       "      <td>-0.189528</td>\n",
       "      <td>1.604082</td>\n",
       "      <td>0.278114</td>\n",
       "      <td>1.290554</td>\n",
       "      <td>-0.495183</td>\n",
       "      <td>-2.162446</td>\n",
       "      <td>-0.289098</td>\n",
       "      <td>-0.317002</td>\n",
       "      <td>1.329087</td>\n",
       "      <td>-0.466315</td>\n",
       "    </tr>\n",
       "    <tr>\n",
       "      <th>1378209</th>\n",
       "      <td>0.493645</td>\n",
       "      <td>-0.223097</td>\n",
       "      <td>1.179964</td>\n",
       "      <td>0.816063</td>\n",
       "      <td>-0.911766</td>\n",
       "      <td>-2.006849</td>\n",
       "      <td>0.530207</td>\n",
       "      <td>-1.689107</td>\n",
       "      <td>1.436010</td>\n",
       "      <td>0.701115</td>\n",
       "      <td>0.182986</td>\n",
       "      <td>0.207932</td>\n",
       "      <td>2.159522</td>\n",
       "      <td>0.922341</td>\n",
       "      <td>1.290462</td>\n",
       "      <td>-0.284271</td>\n",
       "      <td>-0.735029</td>\n",
       "      <td>0.775204</td>\n",
       "      <td>0.319028</td>\n",
       "      <td>-0.681585</td>\n",
       "    </tr>\n",
       "    <tr>\n",
       "      <th>1378210</th>\n",
       "      <td>-0.075794</td>\n",
       "      <td>-0.289388</td>\n",
       "      <td>-0.865490</td>\n",
       "      <td>-0.056705</td>\n",
       "      <td>-1.932329</td>\n",
       "      <td>-0.621534</td>\n",
       "      <td>0.843059</td>\n",
       "      <td>-1.067701</td>\n",
       "      <td>0.261798</td>\n",
       "      <td>0.685885</td>\n",
       "      <td>-3.122255</td>\n",
       "      <td>0.493765</td>\n",
       "      <td>-1.109519</td>\n",
       "      <td>-0.243910</td>\n",
       "      <td>1.274702</td>\n",
       "      <td>-0.774044</td>\n",
       "      <td>0.212821</td>\n",
       "      <td>0.528850</td>\n",
       "      <td>-1.247185</td>\n",
       "      <td>-1.141515</td>\n",
       "    </tr>\n",
       "  </tbody>\n",
       "</table>\n",
       "<p>1378211 rows × 20 columns</p>\n",
       "</div>"
      ],
      "text/plain": [
       "               0         1         2         3         4         5         6   \\\n",
       "0       -2.027106  0.698614 -1.353345 -0.597451 -0.619398  0.831723 -0.819715   \n",
       "1       -0.969393 -1.652711 -0.140260  0.797619 -2.233307 -0.691485  0.333146   \n",
       "2        0.638351 -1.126229  1.300591  1.057289 -0.554248 -0.601467 -0.552929   \n",
       "3       -0.278161 -0.517570  0.339013 -0.903170 -2.281305 -0.035991 -0.651971   \n",
       "4       -0.970590  1.082500 -1.627025 -0.548828 -0.622542  1.220099 -1.300437   \n",
       "...           ...       ...       ...       ...       ...       ...       ...   \n",
       "1378206 -0.567254 -1.315838 -0.757829  0.175219 -0.247883  0.414340  0.254362   \n",
       "1378207 -1.248705 -1.898495 -0.176328 -0.624121  1.253515 -1.272985  0.279909   \n",
       "1378208 -0.032313  1.663280 -1.918703 -0.687156 -0.237924  1.036288 -1.517288   \n",
       "1378209  0.493645 -0.223097  1.179964  0.816063 -0.911766 -2.006849  0.530207   \n",
       "1378210 -0.075794 -0.289388 -0.865490 -0.056705 -1.932329 -0.621534  0.843059   \n",
       "\n",
       "               7         8         9         10        11        12        13  \\\n",
       "0       -0.135807  1.165330 -0.533898 -1.763904  0.297857 -0.192814  1.220392   \n",
       "1        0.967864 -1.240105  0.829085 -2.499836 -3.067173  1.408871  1.200159   \n",
       "2        0.002447  2.447047  1.635807  0.999726 -1.197686  0.685836 -0.184931   \n",
       "3       -1.120946  0.736014 -0.052497 -0.676760 -1.169442 -1.074534  0.021484   \n",
       "4       -0.276280  1.137610 -2.273913 -1.123910  1.387637 -0.058860  1.506119   \n",
       "...           ...       ...       ...       ...       ...       ...       ...   \n",
       "1378206  0.467260 -0.121558  1.926495 -3.141425  1.730416  1.673390 -0.131467   \n",
       "1378207  1.374706 -0.988508  2.258581 -1.723185  0.319415 -0.351999 -1.217218   \n",
       "1378208  0.545578  0.902072 -0.533370 -0.189528  1.604082  0.278114  1.290554   \n",
       "1378209 -1.689107  1.436010  0.701115  0.182986  0.207932  2.159522  0.922341   \n",
       "1378210 -1.067701  0.261798  0.685885 -3.122255  0.493765 -1.109519 -0.243910   \n",
       "\n",
       "               14        15        16        17        18        19  \n",
       "0        0.744705 -1.261555 -0.060014  0.492368 -0.148011 -0.160856  \n",
       "1        0.816906  0.426851 -0.263828 -2.428107  0.144745  1.074235  \n",
       "2        1.697181  1.119739 -1.365324  1.808707 -0.093848  0.527784  \n",
       "3       -0.176420  2.382935  0.793396 -1.433841 -2.058723  2.215209  \n",
       "4       -0.351381 -1.322799 -0.512780 -0.222475  1.160798  0.096138  \n",
       "...           ...       ...       ...       ...       ...       ...  \n",
       "1378206  0.147619  0.992856 -0.514649 -0.588267 -0.336150 -0.043429  \n",
       "1378207 -0.028370  0.312025 -1.881534 -0.130105 -1.252263 -1.115234  \n",
       "1378208 -0.495183 -2.162446 -0.289098 -0.317002  1.329087 -0.466315  \n",
       "1378209  1.290462 -0.284271 -0.735029  0.775204  0.319028 -0.681585  \n",
       "1378210  1.274702 -0.774044  0.212821  0.528850 -1.247185 -1.141515  \n",
       "\n",
       "[1378211 rows x 20 columns]"
      ]
     },
     "execution_count": 19,
     "metadata": {},
     "output_type": "execute_result"
    }
   ],
   "source": [
    "X_scvi"
   ]
  },
  {
   "cell_type": "code",
   "execution_count": 20,
   "id": "2734ac52",
   "metadata": {},
   "outputs": [
    {
     "data": {
      "text/plain": [
       "<matplotlib.collections.PathCollection at 0x7f22f72205e0>"
      ]
     },
     "execution_count": 20,
     "metadata": {},
     "output_type": "execute_result"
    },
    {
     "data": {
      "image/png": "[encoded data removed]",
      "text/plain": [
       "<Figure size 432x288 with 1 Axes>"
      ]
     },
     "metadata": {
      "needs_background": "light"
     },
     "output_type": "display_data"
    }
   ],
   "source": [
    "plt.scatter(X_umap.iloc[:,0],X_umap.iloc[:,1],s=1)"
   ]
  },
  {
   "cell_type": "markdown",
   "id": "fe7fbcea",
   "metadata": {},
   "source": [
    "## Gene IDs and names"
   ]
  },
  {
   "cell_type": "code",
   "execution_count": 21,
   "id": "d2e2062e",
   "metadata": {},
   "outputs": [
    {
     "data": {
      "text/plain": [
       "0        MIR1302-2HG\n",
       "1            FAM138A\n",
       "2              OR4F5\n",
       "3         AL627309.1\n",
       "4         AL627309.3\n",
       "            ...     \n",
       "36596     AC141272.1\n",
       "36597     AC023491.2\n",
       "36598     AC007325.1\n",
       "36599     AC007325.4\n",
       "36600     AC007325.2\n",
       "Name: gids, Length: 36601, dtype: object"
      ]
     },
     "execution_count": 21,
     "metadata": {},
     "output_type": "execute_result"
    }
   ],
   "source": [
    "gene_id = mtg_rna.get('var').get('gene_ids')\n",
    "index = mtg_rna.get('var').get('_index')\n",
    "gene_id = pd.DataFrame(data=gene_id,columns=['gids'])\n",
    "gene_id=gene_id.iloc[:,0].apply(lambda s: s.decode('utf-8'))\n",
    "index = pd.DataFrame(data=index)\n",
    "index=index.iloc[:,0].apply(lambda s: s.decode('utf-8'))\n",
    "gene_id"
   ]
  },
  {
   "cell_type": "markdown",
   "id": "c94bd78e",
   "metadata": {},
   "source": [
    "## Extract samples from different Braak stages"
   ]
  },
  {
   "cell_type": "code",
   "execution_count": 22,
   "id": "28c071b7",
   "metadata": {},
   "outputs": [],
   "source": [
    "ref = list(np.where(braak.iloc[:,0]==0)[0])\n",
    "br_5 = list(np.where(braak.iloc[:,0]==5)[0])\n",
    "br_6 = list(np.where(braak.iloc[:,0]==6)[0])"
   ]
  },
  {
   "cell_type": "markdown",
   "id": "7d8990bf",
   "metadata": {},
   "source": [
    "## No. of samples in respective Braak stages"
   ]
  },
  {
   "cell_type": "code",
   "execution_count": 23,
   "id": "db537af4",
   "metadata": {},
   "outputs": [
    {
     "data": {
      "text/plain": [
       "5"
      ]
     },
     "execution_count": 23,
     "metadata": {},
     "output_type": "execute_result"
    }
   ],
   "source": [
    "len(pd.unique(donor_id.iloc[ref,0]))"
   ]
  },
  {
   "cell_type": "code",
   "execution_count": 24,
   "id": "a7a973fd",
   "metadata": {},
   "outputs": [
    {
     "data": {
      "text/plain": [
       "15"
      ]
     },
     "execution_count": 24,
     "metadata": {},
     "output_type": "execute_result"
    }
   ],
   "source": [
    "len(pd.unique(donor_id.iloc[br_6,0]))"
   ]
  },
  {
   "cell_type": "code",
   "execution_count": 25,
   "id": "aceb750a",
   "metadata": {},
   "outputs": [
    {
     "data": {
      "text/plain": [
       "49"
      ]
     },
     "execution_count": 25,
     "metadata": {},
     "output_type": "execute_result"
    }
   ],
   "source": [
    "len(pd.unique(donor_id.iloc[br_5+br_6,0]))"
   ]
  },
  {
   "cell_type": "markdown",
   "id": "a312279f",
   "metadata": {},
   "source": [
    "## Extract counts data"
   ]
  },
  {
   "cell_type": "code",
   "execution_count": 26,
   "id": "4e9f6db2",
   "metadata": {},
   "outputs": [],
   "source": [
    "data = mtg_rna.get('layers').get(\"UMIs\").get('data')\n",
    "indices = mtg_rna.get('layers').get(\"UMIs\").get('indices')\n",
    "indptr = mtg_rna.get('layers').get(\"UMIs\").get('indptr')"
   ]
  },
  {
   "cell_type": "markdown",
   "id": "a5f4f90f",
   "metadata": {},
   "source": [
    "## Covert the data to CSR array in Python's sparse format"
   ]
  },
  {
   "cell_type": "code",
   "execution_count": 27,
   "id": "e23c430c",
   "metadata": {},
   "outputs": [],
   "source": [
    "data_array=csr_matrix((data, indices, indptr))"
   ]
  },
  {
   "cell_type": "markdown",
   "id": "ac7108b2",
   "metadata": {},
   "source": [
    "## Extract counts of reference/control samples"
   ]
  },
  {
   "cell_type": "code",
   "execution_count": 28,
   "id": "4a8ea2a0",
   "metadata": {},
   "outputs": [],
   "source": [
    "counts_ref = pd.DataFrame(data=data_array[ref].toarray())"
   ]
  },
  {
   "cell_type": "markdown",
   "id": "addd30d8",
   "metadata": {},
   "source": [
    "## See distribution of genes and cells in reference samples"
   ]
  },
  {
   "cell_type": "code",
   "execution_count": 29,
   "id": "428c226d",
   "metadata": {},
   "outputs": [
    {
     "data": {
      "text/plain": [
       "Text(0, 0.5, 'No. of Cells')"
      ]
     },
     "execution_count": 29,
     "metadata": {},
     "output_type": "execute_result"
    },
    {
     "data": {
      "image/png": "[encoded data removed]",
      "text/plain": [
       "<Figure size 432x288 with 1 Axes>"
      ]
     },
     "metadata": {
      "needs_background": "light"
     },
     "output_type": "display_data"
    }
   ],
   "source": [
    "fig=plt.hist(np.count_nonzero(counts_ref,axis=1),bins=100)\n",
    "plt.xlabel('Genes detected')\n",
    "plt.ylabel('No. of Cells')"
   ]
  },
  {
   "cell_type": "code",
   "execution_count": 30,
   "id": "b6335b3c",
   "metadata": {},
   "outputs": [
    {
     "data": {
      "text/plain": [
       "Text(0, 0.5, 'No. of genes')"
      ]
     },
     "execution_count": 30,
     "metadata": {},
     "output_type": "execute_result"
    },
    {
     "data": {
      "image/png": "[encoded data removed]",
      "text/plain": [
       "<Figure size 432x288 with 1 Axes>"
      ]
     },
     "metadata": {
      "needs_background": "light"
     },
     "output_type": "display_data"
    }
   ],
   "source": [
    "fig=plt.hist(np.count_nonzero(counts_ref,axis=0),bins=100)\n",
    "plt.xlabel('Cells detected')\n",
    "plt.ylabel('No. of genes')"
   ]
  },
  {
   "cell_type": "markdown",
   "id": "67bcab2f",
   "metadata": {},
   "source": [
    "## Extract samples of Braak 6 stage"
   ]
  },
  {
   "cell_type": "code",
   "execution_count": 31,
   "id": "98adf37f",
   "metadata": {},
   "outputs": [],
   "source": [
    "counts_br6 = pd.DataFrame(data=data_array[br_6].toarray())"
   ]
  },
  {
   "cell_type": "markdown",
   "id": "2daa26b9",
   "metadata": {},
   "source": [
    "## See distribution of genes and samples in Braak 6 samples"
   ]
  },
  {
   "cell_type": "code",
   "execution_count": 32,
   "id": "b3857227",
   "metadata": {},
   "outputs": [
    {
     "data": {
      "text/plain": [
       "Text(0, 0.5, 'No. of Cells')"
      ]
     },
     "execution_count": 32,
     "metadata": {},
     "output_type": "execute_result"
    },
    {
     "data": {
      "image/png": "[encoded data removed]",
      "text/plain": [
       "<Figure size 432x288 with 1 Axes>"
      ]
     },
     "metadata": {
      "needs_background": "light"
     },
     "output_type": "display_data"
    }
   ],
   "source": [
    "fig=plt.hist(np.count_nonzero(counts_br6,axis=1),bins=100)\n",
    "plt.xlabel('Genes detected')\n",
    "plt.ylabel('No. of Cells')"
   ]
  },
  {
   "cell_type": "code",
   "execution_count": 33,
   "id": "83934263",
   "metadata": {},
   "outputs": [
    {
     "data": {
      "text/plain": [
       "Text(0, 0.5, 'No. of genes')"
      ]
     },
     "execution_count": 33,
     "metadata": {},
     "output_type": "execute_result"
    },
    {
     "data": {
      "image/png": "[encoded data removed]",
      "text/plain": [
       "<Figure size 432x288 with 1 Axes>"
      ]
     },
     "metadata": {
      "needs_background": "light"
     },
     "output_type": "display_data"
    }
   ],
   "source": [
    "fig=plt.hist(np.count_nonzero(counts_br6,axis=0),bins=100)\n",
    "plt.xlabel('Cells detected')\n",
    "plt.ylabel('No. of genes')"
   ]
  },
  {
   "cell_type": "markdown",
   "id": "e8546ca6",
   "metadata": {},
   "source": [
    "## The pre-processing to remove noisy cells and genes is perhaps already done. The h5ad file read at the beginning is likely already refined"
   ]
  },
  {
   "cell_type": "code",
   "execution_count": null,
   "id": "9491cce2",
   "metadata": {},
   "outputs": [],
   "source": []
  }
 ],
 "metadata": {
  "kernelspec": {
   "display_name": "Python 3",
   "language": "python",
   "name": "python3"
  },
  "language_info": {
   "codemirror_mode": {
    "name": "ipython",
    "version": 3
   },
   "file_extension": ".py",
   "mimetype": "text/x-python",
   "name": "python",
   "nbconvert_exporter": "python",
   "pygments_lexer": "ipython3",
   "version": "3.8.3"
  }
 },
 "nbformat": 4,
 "nbformat_minor": 5
}
