{
 "cells": [
  {
   "cell_type": "code",
   "execution_count": null,
   "id": "137d759e-b068-47f2-abde-856327da57ef",
   "metadata": {},
   "outputs": [],
   "source": [
    "import seaborn as sns\n",
    "import scanpy as sc\n",
    "import pandas as pd\n",
    "import numpy as np\n",
    "import matplotlib.pyplot as plt\n",
    "import seaborn as sns\n",
    "import gseapy\n",
    "from scvi_colab import install\n",
    "install()\n",
    "run_outside_colab=True\n",
    "import scvi\n",
    "import scipy.sparse\n",
    "import decoupler as dc\n",
    "import torch\n",
    "import gzip\n",
    "\n",
    "scvi.settings.seed = 0\n",
    "print(\"Last run with scvi-tools version:\", scvi.__version__)"
   ]
  },
  {
   "cell_type": "markdown",
   "id": "3aca5e78-caa6-47ff-b4ea-2c946117e9e5",
   "metadata": {},
   "source": [
    "## Read in all Feature/Barcode/MTX files and convert to AnnData"
   ]
  },
  {
   "cell_type": "code",
   "execution_count": null,
   "id": "692873ef-e84a-4cc0-85a7-9c2df60c17fd",
   "metadata": {},
   "outputs": [],
   "source": [
    "aud_07_barcodes = pd.read_csv('../../human_alcohol_brenner_et_al/alcohol_07/barcodes.tsv.gz',sep='\\t',header=None)\n",
    "aud_07_genes = pd.read_csv('../../human_alcohol_brenner_et_al/alcohol_07/features.tsv.gz',sep='\\t',header=None)\n",
    "aud_07_mtx = sc.read_mtx('../../human_alcohol_brenner_et_al/alcohol_07/matrix.mtx.gz',dtype='float32')\n",
    "aud_07_mtx = aud_07_mtx.T\n",
    "aud_07_mtx.var = pd.DataFrame(data=list(aud_07_genes.iloc[:,1]),columns=['genes'])\n",
    "aud_07_mtx.obs = pd.DataFrame(data=list(aud_07_barcodes.iloc[:,0]),columns=['barcodes'])\n",
    "aud_07_mtx.obs['condition'] = 'AUD'\n",
    "aud_07_mtx.obs['donor'] = 'aud_07'\n",
    "\n",
    "aud_14_barcodes = pd.read_csv('../../human_alcohol_brenner_et_al/alcohol_14/barcodes.tsv.gz',sep='\\t',header=None)\n",
    "aud_14_genes = pd.read_csv('../../human_alcohol_brenner_et_al/alcohol_14/features.tsv.gz',sep='\\t',header=None)\n",
    "aud_14_mtx = sc.read_mtx('../../human_alcohol_brenner_et_al/alcohol_14/matrix.mtx.gz',dtype='float32')\n",
    "aud_14_mtx = aud_14_mtx.T\n",
    "aud_14_mtx.var = pd.DataFrame(data=list(aud_14_genes.iloc[:,1]),columns=['genes'])\n",
    "aud_14_mtx.obs = pd.DataFrame(data=list(aud_14_barcodes.iloc[:,0]),columns=['barcodes'])\n",
    "aud_14_mtx.obs['condition'] = 'AUD'\n",
    "aud_14_mtx.obs['donor'] = 'aud_14'\n",
    "\n",
    "aud_23_barcodes = pd.read_csv('../../human_alcohol_brenner_et_al/alcohol_23/barcodes.tsv.gz',sep='\\t',header=None)\n",
    "aud_23_genes = pd.read_csv('../../human_alcohol_brenner_et_al/alcohol_23/features.tsv.gz',sep='\\t',header=None)\n",
    "aud_23_mtx = sc.read_mtx('../../human_alcohol_brenner_et_al/alcohol_23/matrix.mtx.gz',dtype='float32')\n",
    "aud_23_mtx = aud_23_mtx.T\n",
    "aud_23_mtx.var = pd.DataFrame(data=list(aud_23_genes.iloc[:,1]),columns=['genes'])\n",
    "aud_23_mtx.obs = pd.DataFrame(data=list(aud_23_barcodes.iloc[:,0]),columns=['barcodes'])\n",
    "aud_23_mtx.obs['condition'] = 'AUD'\n",
    "aud_23_mtx.obs['donor'] = 'aud_23'\n",
    "\n",
    "ctrl_01_barcodes = pd.read_csv('../../human_alcohol_brenner_et_al/control_01/barcodes.tsv.gz',sep='\\t',header=None)\n",
    "ctrl_01_genes = pd.read_csv('../../human_alcohol_brenner_et_al/control_01/features.tsv.gz',sep='\\t',header=None)\n",
    "ctrl_01_mtx = sc.read_mtx('../../human_alcohol_brenner_et_al/control_01/matrix.mtx.gz',dtype='float32')\n",
    "ctrl_01_mtx = ctrl_01_mtx.T\n",
    "ctrl_01_mtx.var = pd.DataFrame(data=list(ctrl_01_genes.iloc[:,1]),columns=['genes'])\n",
    "ctrl_01_mtx.obs = pd.DataFrame(data=list(ctrl_01_barcodes.iloc[:,0]),columns=['barcodes'])\n",
    "ctrl_01_mtx.obs['condition'] = 'Ctrl'\n",
    "ctrl_01_mtx.obs['donor'] = 'control_01'\n",
    "\n",
    "ctrl_071_barcodes = pd.read_csv('../../human_alcohol_brenner_et_al/control_07-1/barcodes.tsv.gz',sep='\\t',header=None)\n",
    "ctrl_071_genes = pd.read_csv('../../human_alcohol_brenner_et_al/control_07-1/features.tsv.gz',sep='\\t',header=None)\n",
    "ctrl_071_mtx = sc.read_mtx('../../human_alcohol_brenner_et_al/control_07-1/matrix.mtx.gz',dtype='float32')\n",
    "ctrl_071_mtx = ctrl_071_mtx.T\n",
    "ctrl_071_mtx.var = pd.DataFrame(data=list(ctrl_071_genes.iloc[:,1]),columns=['genes'])\n",
    "ctrl_071_mtx.obs = pd.DataFrame(data=list(ctrl_071_barcodes.iloc[:,0]),columns=['barcodes'])\n",
    "ctrl_071_mtx.obs['condition'] = 'Ctrl'\n",
    "ctrl_071_mtx.obs['donor'] = 'control_071'\n",
    "\n",
    "ctrl_072_barcodes = pd.read_csv('../../human_alcohol_brenner_et_al/control_07-2/barcodes.tsv.gz',sep='\\t',header=None)\n",
    "ctrl_072_genes = pd.read_csv('../../human_alcohol_brenner_et_al/control_07-2/features.tsv.gz',sep='\\t',header=None)\n",
    "ctrl_072_mtx = sc.read_mtx('../../human_alcohol_brenner_et_al/control_07-2/matrix.mtx.gz',dtype='float32')\n",
    "ctrl_072_mtx = ctrl_072_mtx.T\n",
    "ctrl_072_mtx.var = pd.DataFrame(data=list(ctrl_072_genes.iloc[:,1]),columns=['genes'])\n",
    "ctrl_072_mtx.obs = pd.DataFrame(data=list(ctrl_072_barcodes.iloc[:,0]),columns=['barcodes'])\n",
    "ctrl_072_mtx.obs['condition'] = 'Ctrl'\n",
    "ctrl_072_mtx.obs['donor'] = 'control_072'\n",
    "\n",
    "ctrl_09_barcodes = pd.read_csv('../../human_alcohol_brenner_et_al/control_09/barcodes.tsv.gz',sep='\\t',header=None)\n",
    "ctrl_09_genes = pd.read_csv('../../human_alcohol_brenner_et_al/control_09/features.tsv.gz',sep='\\t',header=None)\n",
    "ctrl_09_mtx = sc.read_mtx('../../human_alcohol_brenner_et_al/control_09/matrix.mtx.gz',dtype='float32')\n",
    "ctrl_09_mtx = ctrl_09_mtx.T\n",
    "ctrl_09_mtx.var = pd.DataFrame(data=list(ctrl_09_genes.iloc[:,1]),columns=['genes'])\n",
    "ctrl_09_mtx.obs = pd.DataFrame(data=list(ctrl_09_barcodes.iloc[:,0]),columns=['barcodes'])\n",
    "ctrl_09_mtx.obs['condition'] = 'Ctrl'\n",
    "ctrl_09_mtx.obs['donor'] = 'control_09'\n",
    "\n",
    "ctrl_17_barcodes = pd.read_csv('../../human_alcohol_brenner_et_al/control_17/barcodes.tsv.gz',sep='\\t',header=None)\n",
    "ctrl_17_genes = pd.read_csv('../../human_alcohol_brenner_et_al/control_17/features.tsv.gz',sep='\\t',header=None)\n",
    "ctrl_17_mtx = sc.read_mtx('../../human_alcohol_brenner_et_al/control_17/matrix.mtx.gz',dtype='float32')\n",
    "ctrl_17_mtx = ctrl_17_mtx.T\n",
    "ctrl_17_mtx.var = pd.DataFrame(data=list(ctrl_17_genes.iloc[:,1]),columns=['genes'])\n",
    "ctrl_17_mtx.obs = pd.DataFrame(data=list(ctrl_17_barcodes.iloc[:,0]),columns=['barcodes'])\n",
    "ctrl_17_mtx.obs['condition'] = 'Ctrl'\n",
    "ctrl_17_mtx.obs['donor'] = 'control_17'"
   ]
  },
  {
   "cell_type": "markdown",
   "id": "ec7ef6cf-daaf-4b67-9c06-63109202437a",
   "metadata": {},
   "source": [
    "## Concatenate all anndata objects"
   ]
  },
  {
   "cell_type": "code",
   "execution_count": null,
   "id": "616fa39a-1f03-43c9-9326-03ed05b2bba0",
   "metadata": {},
   "outputs": [],
   "source": [
    "adata = sc.concat([aud_07_mtx,aud_14_mtx,aud_23_mtx,ctrl_01_mtx,ctrl_071_mtx,ctrl_072_mtx,ctrl_09_mtx,ctrl_17_mtx])"
   ]
  },
  {
   "cell_type": "markdown",
   "id": "e4d1a939-4130-40a3-bb85-d2e74461095e",
   "metadata": {},
   "source": [
    "## Read in cell labels created by Allen's MapMyCells"
   ]
  },
  {
   "cell_type": "code",
   "execution_count": 3,
   "id": "6cf23842-bf90-4676-878e-16c9b5c73818",
   "metadata": {},
   "outputs": [],
   "source": [
    "cell_labels = pd.read_csv('../../human_alcohol_brenner_et_al/filtered_brenner_10xHumanMTGSEA-AD(CCN20230505)_DeepGenerativeMapping_UTC_1703040602734.csv',skiprows=3)"
   ]
  },
  {
   "cell_type": "code",
   "execution_count": null,
   "id": "61d98c17-7272-48aa-9387-c9dbee80b186",
   "metadata": {},
   "outputs": [],
   "source": [
    "adata.obs['subclass_name'] = cell_labels.loc[:,'subclass_name']\n",
    "adata.var_names = adata.var.genes"
   ]
  },
  {
   "cell_type": "markdown",
   "id": "b31c8b24-c0dd-4c62-b1bb-7bca80031013",
   "metadata": {},
   "source": [
    "## Filter noisy cells and genes"
   ]
  },
  {
   "cell_type": "code",
   "execution_count": null,
   "id": "e1e4e6d4-75db-4388-b597-e662886abef7",
   "metadata": {},
   "outputs": [],
   "source": [
    "sc.pp.filter_cells(adata, min_genes = 150)\n",
    "sc.pp.filter_genes(adata, min_cells = 10)"
   ]
  },
  {
   "cell_type": "markdown",
   "id": "936e3ed4-4b02-4f03-a34c-476a6b656d0c",
   "metadata": {},
   "source": [
    "## Preserve raw counts and log-normalize the \"X\" attribute of the data"
   ]
  },
  {
   "cell_type": "code",
   "execution_count": null,
   "id": "31a11f47-8bd7-4666-b959-230ab136a7b4",
   "metadata": {},
   "outputs": [],
   "source": [
    "adata.layers[\"counts\"] = adata.X.copy()  # preserve counts\n",
    "sc.pp.normalize_total(adata, target_sum=1e4)\n",
    "sc.pp.log1p(adata)\n",
    "adata.raw = adata \n",
    "adata.obs = adata.obs.set_index('barcodes')"
   ]
  },
  {
   "cell_type": "markdown",
   "id": "4a72a551-4f66-4d2a-b1ba-1017195508a5",
   "metadata": {},
   "source": [
    "## Create pseudobulks too for MRA and general visualization"
   ]
  },
  {
   "cell_type": "code",
   "execution_count": null,
   "id": "7864d0ba-1a33-4d7e-9c13-8e76d1e06fa6",
   "metadata": {},
   "outputs": [],
   "source": [
    "pseudobulk_adata = dc.get_pseudobulk(\n",
    "    #adata[:,np.where(adata.var['gene_ids']=='VGF')[0][0]],#.layers.get('UMIs').toarray(),\n",
    "    adata,\n",
    "    sample_col='donor',\n",
    "    groups_col='subclass_name',\n",
    "    layer='counts',\n",
    "    mode='sum',\n",
    "    min_cells=0,\n",
    "    min_counts=0\n",
    ")\n",
    "\n",
    "pbulk_controls = list(np.where(\n",
    "((pseudobulk_adata.obs['condition']=='Ctrl'))\n",
    ")[0])\n",
    "\n",
    "pbulk_aud = list(np.where(\n",
    "((pseudobulk_adata.obs['condition']=='AUD'))\n",
    ")[0])\n",
    "\n",
    "pd.DataFrame(data=pseudobulk_adata.X[pbulk_controls],\n",
    "             columns=pseudobulk_adata.var.iloc[:,0],\n",
    "             index=pseudobulk_adata.obs.index[pbulk_controls]).T.to_csv('../../results/human_alcohol_brenner_et_al/pbulk_controls.tsv',sep='\\t')\n",
    "\n",
    "pd.DataFrame(data=pseudobulk_adata.X[pbulk_aud],\n",
    "             columns=pseudobulk_adata.var.iloc[:,0],\n",
    "             index=pseudobulk_adata.obs.index[pbulk_aud]).T.to_csv('../../results/human_alcohol_brenner_et_al/pbulk_aud.tsv',sep='\\t')\n"
   ]
  },
  {
   "cell_type": "markdown",
   "id": "c508c0bd-f55f-4552-9539-3847b13ebf17",
   "metadata": {},
   "source": [
    "## Find highly variable genes and create latent embeddings using scVI to visulaize with UMAP"
   ]
  },
  {
   "cell_type": "code",
   "execution_count": null,
   "id": "d700899c-f3b6-41fe-91fe-adcaf9b7eb66",
   "metadata": {},
   "outputs": [],
   "source": [
    "sc.pp.highly_variable_genes(\n",
    "    adata,\n",
    "    n_top_genes=5000,\n",
    "    subset=True,\n",
    "    layer=\"counts\",\n",
    "    flavor=\"seurat_v3\",\n",
    "    #batch_key=\"cell_source\",\n",
    ")\n",
    "#adata = adata[cell].copy()\n",
    "scvi.model.SCVI.setup_anndata(\n",
    "    adata,\n",
    "    layer=\"counts\",\n",
    "    categorical_covariate_keys=[\"donor\"]\n",
    ")\n",
    "model = scvi.model.SCVI(adata)\n",
    "model.train(check_val_every_n_epoch=1,\n",
    "    max_epochs=100,\n",
    "    early_stopping=True,\n",
    "    early_stopping_patience=25,\n",
    "    early_stopping_monitor=\"elbo_validation\",\n",
    "    )\n",
    "train_test_results = model.history[\"elbo_train\"]\n",
    "train_test_results[\"elbo_validation\"] = model.history[\"elbo_validation\"]\n",
    "train_test_results.iloc[10:].plot(logy=True)  # exclude first 10 epochs\n",
    "plt.show()\n",
    "latent = model.get_latent_representation()\n",
    "adata.obsm[\"X_scVI\"] = latent\n",
    "sc.pp.neighbors(adata, use_rep=\"X_scVI\")\n",
    "sc.tl.umap(adata, min_dist=0.01)\n",
    "sc.pl.umap(\n",
    "    adata,\n",
    "    color=[\"subclass_name\"],\n",
    "    size=10,\n",
    "    frameon=False,\n",
    ")"
   ]
  },
  {
   "cell_type": "markdown",
   "id": "2146a692-9905-478d-91b3-fec1e0ec25be",
   "metadata": {},
   "source": [
    "<img src=\"Downloads/Untitled.png\">\n",
    "<img src=\"Downloads/Untitled1.png\">"
   ]
  },
  {
   "cell_type": "markdown",
   "id": "a9e2fe96-c9a3-4960-bae6-ae37373d0e43",
   "metadata": {},
   "source": [
    "## Compute DEGs, first for all cells together (analogus to pseudo-bulk), then with cell-type specificity"
   ]
  },
  {
   "cell_type": "code",
   "execution_count": null,
   "id": "62c765c6-b5e3-4057-ab6b-acfa6d6399bb",
   "metadata": {},
   "outputs": [],
   "source": [
    "##### If need be re-read adata and find more highly variable genes to consider more as candidates for DEGs ########\n",
    "\n",
    "results_dir = '../../results/human_alcohol_brenner_et_al/scvi/'\n",
    "\n",
    "###############################################################################################\n",
    "sc.pp.log1p(adata)\n",
    "sc.pp.highly_variable_genes(\n",
    "    adata,\n",
    "    n_top_genes=10000,\n",
    "    subset=True\n",
    ")\n",
    "\n",
    "scvi.model.SCVI.setup_anndata(adata#, layer=\"X\"\n",
    "                              #categorical_covariate_keys=['Gender'],\n",
    "                              #continuous_covariate_keys=[\"Age at Death\"]\n",
    "                             )\n",
    "model = scvi.model.SCVI(\n",
    "    adata, gene_likelihood=\"nb\"\n",
    "    )  # We use Negative Binomial count likelihoods, following Boyeau et al., 2023.\n",
    "model.train(\n",
    "    check_val_every_n_epoch=1,\n",
    "    max_epochs=300,\n",
    "    early_stopping=True,\n",
    "    early_stopping_patience=20,\n",
    "    early_stopping_monitor=\"elbo_validation\",\n",
    "    )\n",
    "train_test_results = model.history[\"elbo_train\"]\n",
    "train_test_results[\"elbo_validation\"] = model.history[\"elbo_validation\"]\n",
    "train_test_results.iloc[10:].plot(logy=True)  # exclude first 10 epochs\n",
    "plt.show()\n",
    "\n",
    "adata.var_names = adata.var_names.astype('object')\n",
    "adata.var_names_make_unique()\n",
    "de_change = model.differential_expression(idx1=adata.obs['condition']=='AUD',\n",
    "                                          #idx2=adata.obs['condition']=='Ctrl', weights='uniform')\n",
    "#de = de_change.loc[de_change['is_de_fdr_0.05']==True,:]\n",
    "de_change[\"log10_pscore\"] = (-1)*np.log10(de_change[\"proba_not_de\"])\n",
    "de_change.to_csv(results_dir+'var_genes_'+str(len(adata.var))+'_allcells.tsv',sep='\\t')\n",
    "\n",
    "\n",
    "for cell_type in pd.unique(adata.obs.subclass_name):\n",
    "    #if not (cell_type in ['L5 ET', 'Sst Chodl']):\n",
    "     #   continue\n",
    "    print(cell_type)\n",
    "    cells = list(np.where(adata.obs.subclass_name==cell_type)[0])\n",
    "    adata_cell = adata[cells].copy()\n",
    "    sc.pp.highly_variable_genes(adata_cell,\n",
    "                                #n_top_genes=5000,\n",
    "                                subset = True\n",
    "                               )\n",
    "    \n",
    "        \n",
    "    print(\"Variable Genes:\"+str(len(adata_cell.var)))\n",
    "    scvi.model.SCVI.setup_anndata(adata_cell)#, layer=\"X\")#,\n",
    "                                  #categorical_covariate_keys=['Gender'],\n",
    "                                  #continuous_covariate_keys=[\"Age at Death\"]\n",
    "                                 \n",
    "                                                               \n",
    "    model = scvi.model.SCVI(adata_cell, gene_likelihood=\"nb\")  # We use Negative Binomial count likelihoods, following Boyeau et al., 2023.\n",
    "    model.train(check_val_every_n_epoch=1,\n",
    "                max_epochs=200,\n",
    "                early_stopping=True,\n",
    "                early_stopping_patience=100,\n",
    "                early_stopping_monitor=\"elbo_validation\",\n",
    "                batch_size=11,\n",
    "                plan_kwargs={\"lr\": 0.001})\n",
    "        \n",
    "    train_test_results = model.history[\"elbo_train\"]\n",
    "    train_test_results[\"elbo_validation\"] = model.history[\"elbo_validation\"]\n",
    "    train_test_results.iloc[10:].plot(logy=True)  # exclude first 10 epochs\n",
    "    plt.show()\n",
    "    de_change = model.differential_expression(idx1=adata_cell.obs['condition']=='AUD',\n",
    "                                              idx2=adata_cell.obs['condition']=='Ctrl', weights=\"uniform\")\n",
    "                                       \n",
    "    #de_change = de_change.loc[de['is_de_fdr_0.05']==True,:]\n",
    "    de_change.loc[:,\"log10_pscore\"] = (-1)*np.log10(de_change[\"proba_not_de\"])\n",
    "    cell_type = cell_type.replace('/','')\n",
    "    cell_type = cell_type.replace(\" \",\"\")\n",
    "    de_change.to_csv(results_dir+'var_genes_'+str(len(adata_cell.var))+'_'+cell_type+'.tsv',sep='\\t')\n",
    "    "
   ]
  }
 ],
 "metadata": {
  "kernelspec": {
   "display_name": "Python 3 (ipykernel)",
   "language": "python",
   "name": "python3"
  },
  "language_info": {
   "codemirror_mode": {
    "name": "ipython",
    "version": 3
   },
   "file_extension": ".py",
   "mimetype": "text/x-python",
   "name": "python",
   "nbconvert_exporter": "python",
   "pygments_lexer": "ipython3",
   "version": "3.10.12"
  }
 },
 "nbformat": 4,
 "nbformat_minor": 5
}
